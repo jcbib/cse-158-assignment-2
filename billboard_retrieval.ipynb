{
 "cells": [
  {
   "cell_type": "code",
   "execution_count": 1,
   "metadata": {},
   "outputs": [
    {
     "name": "stdout",
     "output_type": "stream",
     "text": [
      "Collecting billboard.py\n",
      "  Downloading billboard.py-6.2.1-py2.py3-none-any.whl (7.0 kB)\n",
      "Requirement already satisfied: requests>=2.2.1 in d:\\anaconda3\\lib\\site-packages (from billboard.py) (2.24.0)\n",
      "Requirement already satisfied: beautifulsoup4>=4.4.1 in d:\\anaconda3\\lib\\site-packages (from billboard.py) (4.9.3)\n",
      "Requirement already satisfied: idna<3,>=2.5 in d:\\anaconda3\\lib\\site-packages (from requests>=2.2.1->billboard.py) (2.10)\n",
      "Requirement already satisfied: urllib3!=1.25.0,!=1.25.1,<1.26,>=1.21.1 in d:\\anaconda3\\lib\\site-packages (from requests>=2.2.1->billboard.py) (1.25.11)\n",
      "Requirement already satisfied: certifi>=2017.4.17 in d:\\anaconda3\\lib\\site-packages (from requests>=2.2.1->billboard.py) (2020.6.20)\n",
      "Requirement already satisfied: chardet<4,>=3.0.2 in d:\\anaconda3\\lib\\site-packages (from requests>=2.2.1->billboard.py) (3.0.4)\n",
      "Requirement already satisfied: soupsieve>1.2; python_version >= \"3.0\" in d:\\anaconda3\\lib\\site-packages (from beautifulsoup4>=4.4.1->billboard.py) (2.0.1)\n",
      "Installing collected packages: billboard.py\n",
      "Successfully installed billboard.py-6.2.1\n",
      "Note: you may need to restart the kernel to use updated packages.\n"
     ]
    }
   ],
   "source": [
    "pip install billboard.py"
   ]
  },
  {
   "cell_type": "code",
   "execution_count": 1,
   "metadata": {},
   "outputs": [],
   "source": [
    "import billboard"
   ]
  },
  {
   "cell_type": "code",
   "execution_count": 2,
   "metadata": {},
   "outputs": [],
   "source": [
    "# chart = billboard.ChartData('hot-100')"
   ]
  },
  {
   "cell_type": "code",
   "execution_count": 3,
   "metadata": {},
   "outputs": [],
   "source": [
    "# chart"
   ]
  },
  {
   "cell_type": "code",
   "execution_count": 4,
   "metadata": {},
   "outputs": [],
   "source": [
    "# chart[0]"
   ]
  },
  {
   "cell_type": "code",
   "execution_count": 5,
   "metadata": {},
   "outputs": [],
   "source": [
    "filename = 'billboard_hot_100_all.tsv'\n",
    "f = open(filename, 'w') # w = write"
   ]
  },
  {
   "cell_type": "code",
   "execution_count": 6,
   "metadata": {},
   "outputs": [
    {
     "data": {
      "text/plain": [
       "78"
      ]
     },
     "execution_count": 6,
     "metadata": {},
     "output_type": "execute_result"
    }
   ],
   "source": [
    "headers = 'Date\\t Song\\t Artist\\t Peak Position\\t Last Position\\t Weeks on Chart\\t Rank\\t isNew\\n'\n",
    "f.write(headers)"
   ]
  },
  {
   "cell_type": "code",
   "execution_count": 7,
   "metadata": {},
   "outputs": [],
   "source": [
    "chart = billboard.ChartData('hot-100')"
   ]
  },
  {
   "cell_type": "code",
   "execution_count": 8,
   "metadata": {},
   "outputs": [
    {
     "data": {
      "text/plain": [
       "'2020-11-28'"
      ]
     },
     "execution_count": 8,
     "metadata": {},
     "output_type": "execute_result"
    }
   ],
   "source": [
    "chart.previousDate"
   ]
  },
  {
   "cell_type": "code",
   "execution_count": 9,
   "metadata": {},
   "outputs": [],
   "source": [
    "while chart.previousDate:\n",
    "    for i in range(0,len(chart)):\n",
    "        f.write(chart.date + '\\t' + chart[i].title + '\\t' + chart[i].artist + '\\t' + str(chart[i].peakPos) + '\\t' + str(chart[i].lastPos) + '\\t' + str(chart[i].weeks) + '\\t' + str(chart[i].rank) + '\\t' + str(chart[i].isNew) + '\\n')\n",
    "    chart = billboard.ChartData('hot-100', chart.previousDate)"
   ]
  },
  {
   "cell_type": "code",
   "execution_count": 10,
   "metadata": {},
   "outputs": [],
   "source": [
    "f.close()"
   ]
  },
  {
   "cell_type": "code",
   "execution_count": null,
   "metadata": {},
   "outputs": [],
   "source": []
  }
 ],
 "metadata": {
  "kernelspec": {
   "display_name": "Python 3",
   "language": "python",
   "name": "python3"
  },
  "language_info": {
   "codemirror_mode": {
    "name": "ipython",
    "version": 3
   },
   "file_extension": ".py",
   "mimetype": "text/x-python",
   "name": "python",
   "nbconvert_exporter": "python",
   "pygments_lexer": "ipython3",
   "version": "3.8.5"
  }
 },
 "nbformat": 4,
 "nbformat_minor": 4
}
