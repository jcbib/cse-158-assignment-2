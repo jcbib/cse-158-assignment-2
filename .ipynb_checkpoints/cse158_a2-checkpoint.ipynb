{
 "cells": [
  {
   "cell_type": "markdown",
   "metadata": {},
   "source": [
    "# Assignment 2"
   ]
  },
  {
   "cell_type": "code",
   "execution_count": 1,
   "metadata": {},
   "outputs": [],
   "source": [
    "# Spotify parsing\n",
    "import billboard\n",
    "from spotipy.oauth2 import SpotifyClientCredentials\n",
    "# Pandas work\n",
    "from collections import defaultdict\n",
    "from sklearn import linear_model, svm, model_selection, metrics, naive_bayes, neighbors, ensemble\n",
    "import scipy\n",
    "import random\n",
    "import csv\n",
    "import matplotlib.pyplot as plt\n",
    "import numpy as np\n",
    "import sklearn.metrics as sk\n",
    "import pandas as pd"
   ]
  },
  {
   "cell_type": "code",
   "execution_count": 2,
   "metadata": {},
   "outputs": [
    {
     "name": "stderr",
     "output_type": "stream",
     "text": [
      "<ipython-input-2-bf9dc4d44692>:19: DeprecationWarning: You're using 'as_dict = True'.get_access_token will return the token string directly in future versions. Please adjust your code accordingly, or use get_cached_token instead.\n",
      "  token = auth.get_access_token()\n"
     ]
    }
   ],
   "source": [
    "# https://stackoverflow.com/questions/45927801/trouble-setting-up-credentials-in-spotipy\n",
    "# https://www.kaggle.com/yamaerenay/spotify-dataset-19212020-160k-tracks <- dataset\n",
    "import configparser\n",
    "\n",
    "import spotipy\n",
    "import spotipy.oauth2 as oauth2\n",
    "\n",
    "config = configparser.ConfigParser()\n",
    "config.read('config.cfg')\n",
    "client_id = config.get('SPOTIFY', 'CLIENT_ID')\n",
    "client_secret = config.get('SPOTIFY', 'CLIENT_SECRET')\n",
    "\n",
    "\n",
    "auth = oauth2.SpotifyClientCredentials(\n",
    "    client_id=client_id,\n",
    "    client_secret=client_secret\n",
    ")\n",
    "\n",
    "token = auth.get_access_token()\n",
    "spotify = spotipy.Spotify(auth=token)"
   ]
  },
  {
   "cell_type": "markdown",
   "metadata": {},
   "source": [
    "## Data Parsing and Splitting"
   ]
  },
  {
   "cell_type": "code",
   "execution_count": 3,
   "metadata": {},
   "outputs": [],
   "source": [
    "song_cols = []\n",
    "song_data = []\n",
    "\n",
    "with open('combined_spotify_data.csv', encoding='utf-8') as file:\n",
    "    read_data = csv.reader(file)\n",
    "    for row in read_data:\n",
    "        if row[0] == '':\n",
    "            song_cols = row[1:-1]\n",
    "        elif int(row[4]) < 1940:\n",
    "            continue\n",
    "        else:\n",
    "            row_data = {}\n",
    "            \n",
    "            curr_col = 1\n",
    "            for col in song_cols:\n",
    "                row_data[col] = row[curr_col]\n",
    "                curr_col += 1\n",
    "            \n",
    "            song_data.append(row_data)"
   ]
  },
  {
   "cell_type": "code",
   "execution_count": 4,
   "metadata": {},
   "outputs": [],
   "source": [
    "data_shuffled = song_data.copy()\n",
    "random.shuffle(data_shuffled)"
   ]
  },
  {
   "cell_type": "code",
   "execution_count": 5,
   "metadata": {},
   "outputs": [],
   "source": [
    "training = data_shuffled[:116980]\n",
    "validation = data_shuffled[116980:]"
   ]
  },
  {
   "cell_type": "code",
   "execution_count": 6,
   "metadata": {},
   "outputs": [],
   "source": [
    "artist_cols = []\n",
    "artist_data = []\n",
    "\n",
    "with open('data_w_genres.csv', encoding='utf-8') as file:\n",
    "    read_data = csv.reader(file) \n",
    "    col_labels = False\n",
    "    for row in read_data:\n",
    "        if not col_labels: \n",
    "            cols = row\n",
    "            col_labels = !col_labels\n",
    "        else:\n",
    "            row_data = {}\n",
    "            \n",
    "            curr_col = 0\n",
    "            for col in cols:\n",
    "                row_data[col] = row[curr_col]\n",
    "                curr_col += 1\n",
    "            \n",
    "            row_data['num_billboard'] = 0\n",
    "            \n",
    "            artist_data.append(row_data)"
   ]
  },
  {
   "cell_type": "code",
   "execution_count": 7,
   "metadata": {},
   "outputs": [],
   "source": [
    "for i in range(len(artist_data)):\n",
    "    artist_data[i]['genres'] = artist_data[i]['genres'].strip('][').split(', ')\n",
    "    for j, thing in enumerate(artist_data[i]['genres']):\n",
    "        thing = thing.strip('\\'')\n",
    "        artist_data[i]['genres'][j] = thing"
   ]
  },
  {
   "cell_type": "code",
   "execution_count": 8,
   "metadata": {},
   "outputs": [],
   "source": [
    "genre_counts = defaultdict(int)\n",
    "\n",
    "for artist in artist_data:\n",
    "    for genre in artist['genres']:\n",
    "        if genre != '':\n",
    "            genre_counts[genre] += 1\n",
    "\n",
    "returned_genres_median = [d for d in genre_counts if genre_counts[d] > 4]\n",
    "returned_genres_mean = [d for d in genre_counts if genre_counts[d] >= 22]\n",
    "genre_ids_median = dict(zip(list(returned_genres_median),range(len(returned_genres_median))))\n",
    "genre_ids_mean = dict(zip(list(returned_genres_mean),range(len(returned_genres_mean))))"
   ]
  },
  {
   "cell_type": "code",
   "execution_count": 10,
   "metadata": {},
   "outputs": [],
   "source": [
    "for i in range(len(song_data)):\n",
    "    song_data[i]['artists'] = song_data[i]['artists'].strip('][').split(', ')\n",
    "    for j, thing in enumerate(song_data[i]['artists']):\n",
    "        thing = thing.strip('\\'')\n",
    "        song_data[i]['artists'][j] = thing"
   ]
  },
  {
   "cell_type": "code",
   "execution_count": 11,
   "metadata": {},
   "outputs": [],
   "source": [
    "billboard_songs = [d for d in song_data if d['on_billboard'] == '1']"
   ]
  },
  {
   "cell_type": "code",
   "execution_count": 12,
   "metadata": {},
   "outputs": [],
   "source": [
    "for song in billboard_songs:\n",
    "    for artist in song['artists']:\n",
    "        for a in artist_data:\n",
    "            if a['artists'] == artist:\n",
    "                a['num_billboard'] += 1\n",
    "                break"
   ]
  },
  {
   "cell_type": "code",
   "execution_count": 13,
   "metadata": {},
   "outputs": [],
   "source": [
    "billboard_artists = [d for d in artist_data if d['num_billboard'] > 0]"
   ]
  },
  {
   "cell_type": "markdown",
   "metadata": {},
   "source": [
    "## Baseline Creation"
   ]
  },
  {
   "cell_type": "code",
   "execution_count": 14,
   "metadata": {},
   "outputs": [],
   "source": [
    "# First Baseline: Popularity Threshold (Median)\n",
    "popularities = [int(d['popularity']) for d in training]\n",
    "\n",
    "cut_off = np.median(popularities)"
   ]
  },
  {
   "cell_type": "code",
   "execution_count": 15,
   "metadata": {},
   "outputs": [],
   "source": [
    "actual_on_billboard = [bool(int(d['on_billboard'])) for d in validation]\n",
    "pred_on_billboard = []\n",
    "\n",
    "for d in validation:\n",
    "    pred_on_billboard.append(int(d['popularity']) > cut_off)\n",
    "    "
   ]
  },
  {
   "cell_type": "code",
   "execution_count": 16,
   "metadata": {},
   "outputs": [],
   "source": [
    "# Method to calculate the BER given predictions and y values\n",
    "def calcBER(predictions, y):\n",
    "    # True positives, false positives, etc.\n",
    "    TP_ = np.logical_and(predictions, y)\n",
    "    FP_ = np.logical_and(predictions, np.logical_not(y))\n",
    "    TN_ = np.logical_and(np.logical_not(predictions), np.logical_not(y))\n",
    "    FN_ = np.logical_and(np.logical_not(predictions), y)\n",
    "\n",
    "    TP = sum(TP_)\n",
    "    FP = sum(FP_)\n",
    "    TN = sum(TN_)\n",
    "    FN = sum(FN_)\n",
    "\n",
    "    # BER\n",
    "    BER = 1 - 0.5 * (TP / (TP + FN) + TN / (TN + FP))\n",
    "\n",
    "    print('BER: {}'.format(BER))\n",
    "    \n",
    "    # Accuracy\n",
    "    accuracy = (TP + TN) / (TP + FP + TN + FN)\n",
    "    \n",
    "    print('Accuracy: {}'.format(accuracy))"
   ]
  },
  {
   "cell_type": "code",
   "execution_count": 17,
   "metadata": {},
   "outputs": [
    {
     "name": "stdout",
     "output_type": "stream",
     "text": [
      "BER: 0.3039766154656911\n",
      "Accuracy: 0.57028565567465\n"
     ]
    }
   ],
   "source": [
    "calcBER(pred_on_billboard, actual_on_billboard)"
   ]
  },
  {
   "cell_type": "code",
   "execution_count": 18,
   "metadata": {},
   "outputs": [],
   "source": [
    "# Second Baseline: 'Pop' Music Traits Threshold (Median)\n",
    "energy_indices = [float(d['energy']) for d in training]\n",
    "tempos = [float(d['tempo']) for d in training]\n",
    "danceability_indices = [float(d['danceability']) for d in training]\n",
    "valence_indices = [float(d['valence']) for d in training]\n",
    "\n",
    "energy_cut_off = np.median(energy_indices)\n",
    "tempo_cut_off = np.median(tempos)\n",
    "dance_cut_off = np.median(danceability_indices)\n",
    "valence_cut_off = np.median(valence_indices)"
   ]
  },
  {
   "cell_type": "code",
   "execution_count": 19,
   "metadata": {},
   "outputs": [
    {
     "data": {
      "text/plain": [
       "115.03150000000001"
      ]
     },
     "execution_count": 19,
     "metadata": {},
     "output_type": "execute_result"
    }
   ],
   "source": [
    "tempo_cut_off"
   ]
  },
  {
   "cell_type": "code",
   "execution_count": 20,
   "metadata": {},
   "outputs": [],
   "source": [
    "actual_on_billboard_two = [bool(int(d['on_billboard'])) for d in validation]\n",
    "pred_on_billboard_two = []\n",
    "\n",
    "for d in validation:\n",
    "    pred_on_billboard_two.append(float(d['energy']) > energy_cut_off and \n",
    "                                 float(d['tempo']) > tempo_cut_off and\n",
    "                                 float(d['danceability']) > dance_cut_off and\n",
    "                                 float(d['valence']) > valence_cut_off)"
   ]
  },
  {
   "cell_type": "code",
   "execution_count": 21,
   "metadata": {},
   "outputs": [
    {
     "name": "stdout",
     "output_type": "stream",
     "text": [
      "BER: 0.44915938489047225\n",
      "Accuracy: 0.8254013026309042\n"
     ]
    }
   ],
   "source": [
    "calcBER(pred_on_billboard_two, actual_on_billboard)"
   ]
  },
  {
   "cell_type": "markdown",
   "metadata": {},
   "source": [
    "## Model Building"
   ]
  },
  {
   "cell_type": "markdown",
   "metadata": {},
   "source": [
    "### Utility Functions"
   ]
  },
  {
   "cell_type": "code",
   "execution_count": 22,
   "metadata": {},
   "outputs": [],
   "source": [
    "def model_run_one(train_X, train_y, valid_X, valid_y):\n",
    "    # --------------- Run Naive Bayes ---------------\n",
    "    mod = naive_bayes.MultinomialNB()\n",
    "    mod.fit(train_X, train_y)\n",
    "    pred_y = mod.predict(valid_X)\n",
    "    print('--------------- Run Naive Bayes ---------------')\n",
    "    calcBER(pred_y, valid_y)\n",
    "    print()\n",
    "    \n",
    "    \n",
    "    # --------------- Run Logistic Regression ---------------\n",
    "    mod = linear_model.LogisticRegression(C=0.01, class_weight='balanced')\n",
    "    mod.fit(train_X, train_y)\n",
    "    pred_y = mod.predict(valid_X)\n",
    "    print('--------------- Run Logistic Regression ---------------')\n",
    "    calcBER(pred_y, valid_y)\n",
    "    print()\n",
    "    \n",
    "    # --------------- Run SVM ---------------\n",
    "    mod = svm.LinearSVC(class_weight='balanced', random_state=0, max_iter=50000)\n",
    "    mod.fit(train_X, train_y)\n",
    "    pred_y = mod.predict(valid_X)\n",
    "    print('--------------- Run SVM ---------------')\n",
    "    calcBER(pred_y, valid_y)\n",
    "    print()\n",
    "    \n",
    "    # --------------- Run Random Forest ---------------\n",
    "    mod = ensemble.RandomForestClassifier()\n",
    "    mod.fit(train_X, train_y)\n",
    "    pred_y = mod.predict(valid_X)\n",
    "    print('--------------- Run Random Forest ---------------')\n",
    "    calcBER(pred_y, valid_y)\n",
    "    print()\n",
    "    \n",
    "    \n",
    "    # --------------- Run KNeighbors ---------------\n",
    "    mod = neighbors.KNeighborsClassifier()\n",
    "    mod.fit(train_X, train_y)\n",
    "    pred_y = mod.predict(valid_X)\n",
    "    print('--------------- Run KNeighbors ---------------')\n",
    "    calcBER(pred_y, valid_y)\n",
    "    print()"
   ]
  },
  {
   "cell_type": "code",
   "execution_count": 23,
   "metadata": {},
   "outputs": [],
   "source": [
    "def model_run_two(train_X, train_y, valid_X, valid_y):\n",
    "    # --------------- Run Naive Bayes ---------------\n",
    "    mod = naive_bayes.MultinomialNB()\n",
    "    mod.fit(train_X, train_y)\n",
    "    pred_y = mod.predict(valid_X)\n",
    "    print('--------------- Run Naive Bayes ---------------')\n",
    "    calcBER(pred_y, valid_y)\n",
    "    print()\n",
    "    \n",
    "    \n",
    "    # --------------- Run Logistic Regression ---------------\n",
    "    mod = linear_model.LogisticRegression(C=0.01, class_weight='balanced')\n",
    "    mod.fit(train_X, train_y)\n",
    "    pred_y = mod.predict(valid_X)\n",
    "    print('--------------- Run Logistic Regression ---------------')\n",
    "    calcBER(pred_y, valid_y)\n",
    "    print()\n",
    "    \n",
    "    # --------------- Run SVM ---------------\n",
    "    mod = svm.LinearSVC(class_weight='balanced', random_state=0, max_iter=50000)\n",
    "    mod.fit(train_X, train_y)\n",
    "    pred_y = mod.predict(valid_X)\n",
    "    print('--------------- Run SVM ---------------')\n",
    "    calcBER(pred_y, valid_y)\n",
    "    print()\n",
    "    \n",
    "    # --------------- Run Random Forest ---------------\n",
    "    mod = ensemble.RandomForestClassifier()\n",
    "    mod.fit(train_X, train_y)\n",
    "    pred_y = mod.predict(valid_X)\n",
    "    print('--------------- Run Random Forest ---------------')\n",
    "    calcBER(pred_y, valid_y)\n",
    "    print()\n",
    "    \n",
    "    "
   ]
  },
  {
   "cell_type": "markdown",
   "metadata": {},
   "source": [
    "### First Model: Threshold Feature Vector"
   ]
  },
  {
   "cell_type": "code",
   "execution_count": 24,
   "metadata": {},
   "outputs": [],
   "source": [
    "#-------------------First Model: Threshold Feature Vector-------------------\n",
    "def feature_thresh(datum):\n",
    "    feat = [0]\n",
    "    feat.append(int(float(datum['energy']) > energy_cut_off))\n",
    "    feat.append(int(float(d['tempo']) > tempo_cut_off))\n",
    "    feat.append(int(float(d['danceability']) > dance_cut_off))\n",
    "    feat.append(int(float(d['valence']) > valence_cut_off))\n",
    "    return feat"
   ]
  },
  {
   "cell_type": "code",
   "execution_count": 25,
   "metadata": {},
   "outputs": [],
   "source": [
    "X_first = [feature_thresh(d) for d in training]\n",
    "y_first = [bool(int(d['on_billboard'])) for d in training]\n",
    "\n",
    "X_first_valid = [feature_thresh(d) for d in validation]\n",
    "y_first_valid = [bool(int(d['on_billboard'])) for d in validation]"
   ]
  },
  {
   "cell_type": "code",
   "execution_count": 26,
   "metadata": {},
   "outputs": [
    {
     "name": "stdout",
     "output_type": "stream",
     "text": [
      "--------------- Run Naive Bayes ---------------\n",
      "BER: 0.5\n",
      "Accuracy: 0.9072772962716037\n",
      "\n",
      "--------------- Run Logistic Regression ---------------\n",
      "BER: 0.37043394552652387\n",
      "Accuracy: 0.5420534386378789\n",
      "\n",
      "--------------- Run SVM ---------------\n",
      "BER: 0.37043394552652387\n",
      "Accuracy: 0.5420534386378789\n",
      "\n",
      "--------------- Run Random Forest ---------------\n",
      "BER: 0.5\n",
      "Accuracy: 0.9072772962716037\n",
      "\n",
      "--------------- Run KNeighbors ---------------\n",
      "BER: 0.37043394552652387\n",
      "Accuracy: 0.5420534386378789\n",
      "\n"
     ]
    }
   ],
   "source": [
    "model_run_one(X_first, y_first, X_first_valid, y_first_valid)"
   ]
  },
  {
   "cell_type": "markdown",
   "metadata": {},
   "source": [
    "### Second Model: Pure Feature Vector"
   ]
  },
  {
   "cell_type": "code",
   "execution_count": 27,
   "metadata": {},
   "outputs": [],
   "source": [
    "#-------------------Second Model: Pure Feature Vector-------------------\n",
    "def feature_puer(datum):\n",
    "    feat = [0]\n",
    "    feat.append(float(datum['energy']))\n",
    "    feat.append(float(d['tempo']))\n",
    "    feat.append(float(d['danceability']))\n",
    "    feat.append(float(d['valence']))\n",
    "    return feat"
   ]
  },
  {
   "cell_type": "code",
   "execution_count": 28,
   "metadata": {},
   "outputs": [],
   "source": [
    "X_second = [feature_puer(d) for d in training]\n",
    "y_second = [bool(int(d['on_billboard'])) for d in training]\n",
    "\n",
    "X_second_valid = [feature_puer(d) for d in validation]\n",
    "y_second_valid = [bool(int(d['on_billboard'])) for d in validation]"
   ]
  },
  {
   "cell_type": "code",
   "execution_count": 29,
   "metadata": {},
   "outputs": [
    {
     "name": "stdout",
     "output_type": "stream",
     "text": [
      "--------------- Run Naive Bayes ---------------\n",
      "BER: 0.5\n",
      "Accuracy: 0.9072772962716037\n",
      "\n",
      "--------------- Run Logistic Regression ---------------\n",
      "BER: 0.3798243838549975\n",
      "Accuracy: 0.5977742448330684\n",
      "\n"
     ]
    },
    {
     "name": "stderr",
     "output_type": "stream",
     "text": [
      "D:\\anaconda3\\lib\\site-packages\\sklearn\\svm\\_base.py:976: ConvergenceWarning: Liblinear failed to converge, increase the number of iterations.\n",
      "  warnings.warn(\"Liblinear failed to converge, increase \"\n"
     ]
    },
    {
     "name": "stdout",
     "output_type": "stream",
     "text": [
      "--------------- Run SVM ---------------\n",
      "BER: 0.5\n",
      "Accuracy: 0.09272270372839633\n",
      "\n",
      "--------------- Run Random Forest ---------------\n",
      "BER: 0.5\n",
      "Accuracy: 0.9072772962716037\n",
      "\n",
      "--------------- Run KNeighbors ---------------\n",
      "BER: 0.4945664931120919\n",
      "Accuracy: 0.8977639878968152\n",
      "\n"
     ]
    }
   ],
   "source": [
    "model_run_one(X_second, y_second, X_second_valid, y_second_valid)"
   ]
  },
  {
   "cell_type": "markdown",
   "metadata": {},
   "source": [
    "### Third Model: Popularity and 'Pop' Music Traits Puer Vector"
   ]
  },
  {
   "cell_type": "code",
   "execution_count": 30,
   "metadata": {},
   "outputs": [],
   "source": [
    "#-----Third Model: Popularity and 'Pop' Music Traits Puer Vector----\n",
    "def feature_pop_thresh(datum):\n",
    "    feat = [0]\n",
    "    feat.append(int(d['popularity']))\n",
    "    feat.append(float(datum['energy']))\n",
    "    feat.append(float(d['tempo']))\n",
    "    feat.append(float(d['danceability']))\n",
    "    feat.append(float(d['valence']))\n",
    "    return feat"
   ]
  },
  {
   "cell_type": "code",
   "execution_count": 31,
   "metadata": {},
   "outputs": [],
   "source": [
    "X_third = [feature_pop_thresh(d) for d in training]\n",
    "y_third = [bool(int(d['on_billboard'])) for d in training]\n",
    "\n",
    "X_third_valid = [feature_pop_thresh(d) for d in validation]\n",
    "y_third_valid = [bool(int(d['on_billboard'])) for d in validation]"
   ]
  },
  {
   "cell_type": "code",
   "execution_count": 32,
   "metadata": {},
   "outputs": [
    {
     "name": "stdout",
     "output_type": "stream",
     "text": [
      "--------------- Run Naive Bayes ---------------\n",
      "BER: 0.5\n",
      "Accuracy: 0.9072772962716037\n",
      "\n",
      "--------------- Run Logistic Regression ---------------\n",
      "BER: 0.3798243838549975\n",
      "Accuracy: 0.5977742448330684\n",
      "\n"
     ]
    },
    {
     "name": "stderr",
     "output_type": "stream",
     "text": [
      "D:\\anaconda3\\lib\\site-packages\\sklearn\\svm\\_base.py:976: ConvergenceWarning: Liblinear failed to converge, increase the number of iterations.\n",
      "  warnings.warn(\"Liblinear failed to converge, increase \"\n"
     ]
    },
    {
     "name": "stdout",
     "output_type": "stream",
     "text": [
      "--------------- Run SVM ---------------\n",
      "BER: 0.5\n",
      "Accuracy: 0.09272270372839633\n",
      "\n",
      "--------------- Run Random Forest ---------------\n",
      "BER: 0.5\n",
      "Accuracy: 0.9072772962716037\n",
      "\n",
      "--------------- Run KNeighbors ---------------\n",
      "BER: 0.4945664931120919\n",
      "Accuracy: 0.8977639878968152\n",
      "\n"
     ]
    }
   ],
   "source": [
    "model_run_one(X_third, y_third, X_third_valid, y_third_valid)"
   ]
  },
  {
   "cell_type": "markdown",
   "metadata": {},
   "source": [
    "## Model Refinement"
   ]
  },
  {
   "cell_type": "code",
   "execution_count": 33,
   "metadata": {},
   "outputs": [],
   "source": [
    "artist_ids = defaultdict(int)\n",
    "\n",
    "curr_id = 0\n",
    "for artist in artist_data:\n",
    "    artist_ids[artist['artists']] = curr_id\n",
    "    curr_id += 1"
   ]
  },
  {
   "cell_type": "markdown",
   "metadata": {},
   "source": [
    "### Model Refinement #1: Number of Billboard Hits Variable"
   ]
  },
  {
   "cell_type": "code",
   "execution_count": 34,
   "metadata": {},
   "outputs": [],
   "source": [
    "# Model Refinement #1: Number of Billboard Hits Variable\n",
    "def feature_superstar(datum):\n",
    "    feat = [0]\n",
    "    superstar = 0\n",
    "    for artist in datum['artists']:\n",
    "        artist_id = artist_ids[artist]\n",
    "        superstar += artist_data[artist_id]['num_billboard']\n",
    "    feat.append(superstar)\n",
    "    return feat"
   ]
  },
  {
   "cell_type": "code",
   "execution_count": 35,
   "metadata": {},
   "outputs": [],
   "source": [
    "X_ref_first = [feature_superstar(d) for d in training]\n",
    "y_ref_first = [bool(int(d['on_billboard'])) for d in training]\n",
    "\n",
    "X_ref_first_valid = [feature_superstar(d) for d in validation]\n",
    "y_ref_first_valid = [bool(int(d['on_billboard'])) for d in validation]"
   ]
  },
  {
   "cell_type": "code",
   "execution_count": 36,
   "metadata": {},
   "outputs": [
    {
     "name": "stdout",
     "output_type": "stream",
     "text": [
      "--------------- Run Naive Bayes ---------------\n",
      "BER: 0.5\n",
      "Accuracy: 0.9072772962716037\n",
      "\n",
      "--------------- Run Logistic Regression ---------------\n",
      "BER: 0.3356938062351589\n",
      "Accuracy: 0.7886814708446587\n",
      "\n"
     ]
    },
    {
     "name": "stderr",
     "output_type": "stream",
     "text": [
      "D:\\anaconda3\\lib\\site-packages\\sklearn\\svm\\_base.py:976: ConvergenceWarning: Liblinear failed to converge, increase the number of iterations.\n",
      "  warnings.warn(\"Liblinear failed to converge, increase \"\n"
     ]
    },
    {
     "name": "stdout",
     "output_type": "stream",
     "text": [
      "--------------- Run SVM ---------------\n",
      "BER: 0.3458497517986997\n",
      "Accuracy: 0.7988614800759013\n",
      "\n",
      "--------------- Run Random Forest ---------------\n",
      "BER: 0.48842144123080433\n",
      "Accuracy: 0.9066618800964152\n",
      "\n",
      "--------------- Run KNeighbors ---------------\n",
      "BER: 0.4603894401207954\n",
      "Accuracy: 0.8870198471716498\n",
      "\n"
     ]
    }
   ],
   "source": [
    "model_run_one(X_ref_first, y_ref_first, X_ref_first_valid, y_ref_first_valid)"
   ]
  },
  {
   "cell_type": "markdown",
   "metadata": {},
   "source": [
    "### Model Refinement #2: Number of Billboard Hits Variable with Instrumentalness, Danceability, Song Popularity, and Artist Popularity"
   ]
  },
  {
   "cell_type": "code",
   "execution_count": 37,
   "metadata": {},
   "outputs": [],
   "source": [
    "# Model Refinement #2: Number of Billboard Hits Variable with Acousticness, Valence, Song Popularity, and Artist Popularity\n",
    "def feature_superstar_two(datum):\n",
    "    feat = [0]\n",
    "    superstar = 0\n",
    "    tot_artist_pop = 0\n",
    "    for artist in datum['artists']:\n",
    "        artist_id = artist_ids[artist]\n",
    "        superstar += artist_data[artist_id]['num_billboard']\n",
    "        tot_artist_pop += float(artist_data[artist_id]['popularity'])\n",
    "    feat.append(superstar)\n",
    "    feat.append(float(datum['instrumentalness']))\n",
    "    feat.append(float(datum['danceability']))\n",
    "    feat.append(float(datum['popularity']))\n",
    "    feat.append(tot_artist_pop)\n",
    "    return feat"
   ]
  },
  {
   "cell_type": "code",
   "execution_count": 38,
   "metadata": {},
   "outputs": [],
   "source": [
    "X_ref_second = [feature_superstar_two(d) for d in training]\n",
    "y_ref_second = [bool(int(d['on_billboard'])) for d in training]\n",
    "\n",
    "X_ref_second_valid = [feature_superstar_two(d) for d in validation]\n",
    "y_ref_second_valid = [bool(int(d['on_billboard'])) for d in validation]"
   ]
  },
  {
   "cell_type": "code",
   "execution_count": 39,
   "metadata": {},
   "outputs": [
    {
     "name": "stdout",
     "output_type": "stream",
     "text": [
      "--------------- Run Naive Bayes ---------------\n",
      "BER: 0.3714799172920784\n",
      "Accuracy: 0.8134006872147289\n",
      "\n",
      "--------------- Run Logistic Regression ---------------\n",
      "BER: 0.2561848357471901\n",
      "Accuracy: 0.7333709420995949\n",
      "\n"
     ]
    },
    {
     "name": "stderr",
     "output_type": "stream",
     "text": [
      "D:\\anaconda3\\lib\\site-packages\\sklearn\\svm\\_base.py:976: ConvergenceWarning: Liblinear failed to converge, increase the number of iterations.\n",
      "  warnings.warn(\"Liblinear failed to converge, increase \"\n"
     ]
    },
    {
     "name": "stdout",
     "output_type": "stream",
     "text": [
      "--------------- Run SVM ---------------\n",
      "BER: 0.26977463698355697\n",
      "Accuracy: 0.7760654392532951\n",
      "\n",
      "--------------- Run Random Forest ---------------\n",
      "BER: 0.37187403549527454\n",
      "Accuracy: 0.9154059182522181\n",
      "\n",
      "--------------- Run KNeighbors ---------------\n",
      "BER: 0.35021181430435855\n",
      "Accuracy: 0.9116877788604544\n",
      "\n"
     ]
    }
   ],
   "source": [
    "model_run_one(X_ref_second, y_ref_second, X_ref_second_valid, y_ref_second_valid)"
   ]
  },
  {
   "cell_type": "markdown",
   "metadata": {},
   "source": [
    "### Model Refinement #3: Number of Billboard Hits Variable, Acousticness, Valence, Song Popularity, and Artist Popularity"
   ]
  },
  {
   "cell_type": "code",
   "execution_count": 40,
   "metadata": {},
   "outputs": [],
   "source": [
    "# Model Refinement #3: Number of Billboard Hits Variable, Acousticness, Valence, Song Popularity, and Artist Popularity\n",
    "def feature_superstar_three(datum):\n",
    "    feat = [0]\n",
    "    tot_artist_pop = 0\n",
    "    for artist in datum['artists']:\n",
    "        artist_id = artist_ids[artist]\n",
    "        tot_artist_pop += float(artist_data[artist_id]['popularity'])\n",
    "    feat.append(float(datum['instrumentalness']))\n",
    "    feat.append(float(datum['danceability']))\n",
    "    feat.append(float(datum['popularity']))\n",
    "    feat.append(tot_artist_pop)\n",
    "    return feat"
   ]
  },
  {
   "cell_type": "code",
   "execution_count": 41,
   "metadata": {},
   "outputs": [],
   "source": [
    "X_ref_third = [feature_superstar_three(d) for d in training]\n",
    "y_ref_third = [bool(int(d['on_billboard'])) for d in training]\n",
    "\n",
    "X_ref_third_valid = [feature_superstar_three(d) for d in validation]\n",
    "y_ref_third_valid = [bool(int(d['on_billboard'])) for d in validation]"
   ]
  },
  {
   "cell_type": "code",
   "execution_count": 42,
   "metadata": {},
   "outputs": [
    {
     "name": "stdout",
     "output_type": "stream",
     "text": [
      "--------------- Run Naive Bayes ---------------\n",
      "BER: 0.4229600443678426\n",
      "Accuracy: 0.9022257551669316\n",
      "\n",
      "--------------- Run Logistic Regression ---------------\n",
      "BER: 0.2768445035173628\n",
      "Accuracy: 0.6875480793886866\n",
      "\n"
     ]
    },
    {
     "name": "stderr",
     "output_type": "stream",
     "text": [
      "D:\\anaconda3\\lib\\site-packages\\sklearn\\svm\\_base.py:976: ConvergenceWarning: Liblinear failed to converge, increase the number of iterations.\n",
      "  warnings.warn(\"Liblinear failed to converge, increase \"\n"
     ]
    },
    {
     "name": "stdout",
     "output_type": "stream",
     "text": [
      "--------------- Run SVM ---------------\n",
      "BER: 0.2794791333701503\n",
      "Accuracy: 0.6435714652033437\n",
      "\n",
      "--------------- Run Random Forest ---------------\n",
      "BER: 0.43606946910158306\n",
      "Accuracy: 0.907046515205908\n",
      "\n",
      "--------------- Run KNeighbors ---------------\n",
      "BER: 0.42418644260893623\n",
      "Accuracy: 0.9002256525975691\n",
      "\n"
     ]
    }
   ],
   "source": [
    "model_run_one(X_ref_third, y_ref_third, X_ref_third_valid, y_ref_third_valid)"
   ]
  },
  {
   "cell_type": "markdown",
   "metadata": {},
   "source": [
    "## Model Refinement The Sequel: Genre Trials"
   ]
  },
  {
   "cell_type": "markdown",
   "metadata": {},
   "source": [
    "### Purely Artist Genre From Median"
   ]
  },
  {
   "cell_type": "code",
   "execution_count": 43,
   "metadata": {},
   "outputs": [],
   "source": [
    "def feat_genres_median(datum):\n",
    "    feat = [0] * len(returned_genres_median)\n",
    "    for artist in datum['artists']:\n",
    "        artist_id = artist_ids[artist]\n",
    "        for genre in artist_data[artist_id]['genres']:\n",
    "            if genre in returned_genres_median:\n",
    "                feat[genre_ids_median[genre]] = 1\n",
    "    feat.insert(0, 0)\n",
    "    return feat"
   ]
  },
  {
   "cell_type": "code",
   "execution_count": 44,
   "metadata": {},
   "outputs": [],
   "source": [
    "X_ref_seq_one = [feat_genres_median(d) for d in training]\n",
    "y_ref_seq_one = [bool(int(d['on_billboard'])) for d in training]\n",
    "\n",
    "X_ref_seq_one_valid = [feat_genres_median(d) for d in validation]\n",
    "y_ref_seq_one_valid = [bool(int(d['on_billboard'])) for d in validation]"
   ]
  },
  {
   "cell_type": "code",
   "execution_count": 45,
   "metadata": {},
   "outputs": [
    {
     "name": "stdout",
     "output_type": "stream",
     "text": [
      "--------------- Run Naive Bayes ---------------\n",
      "BER: 0.2793149565325701\n",
      "Accuracy: 0.8225037181393917\n",
      "\n",
      "--------------- Run Logistic Regression ---------------\n",
      "BER: 0.24198663837369438\n",
      "Accuracy: 0.7609364582799117\n",
      "\n",
      "--------------- Run SVM ---------------\n",
      "BER: 0.23376255513152777\n",
      "Accuracy: 0.7308067080363095\n",
      "\n",
      "--------------- Run Random Forest ---------------\n",
      "BER: 0.4289026284176295\n",
      "Accuracy: 0.9045079234832556\n",
      "\n"
     ]
    }
   ],
   "source": [
    "model_run_two(X_ref_seq_one, y_ref_seq_one, X_ref_seq_one_valid, y_ref_seq_one_valid)"
   ]
  },
  {
   "cell_type": "markdown",
   "metadata": {},
   "source": [
    "### Purely Artist Genre from Mean"
   ]
  },
  {
   "cell_type": "code",
   "execution_count": 46,
   "metadata": {},
   "outputs": [],
   "source": [
    "def feat_genres_mean(datum):\n",
    "    feat = [0] * len(returned_genres_mean)\n",
    "    for artist in datum['artists']:\n",
    "        artist_id = artist_ids[artist]\n",
    "        for genre in artist_data[artist_id]['genres']:\n",
    "            if genre in returned_genres_mean:\n",
    "                feat[genre_ids_mean[genre]] = 1\n",
    "    feat.insert(0, 0)\n",
    "    return feat"
   ]
  },
  {
   "cell_type": "code",
   "execution_count": 47,
   "metadata": {},
   "outputs": [],
   "source": [
    "X_ref_seq_two = [feat_genres_mean(d) for d in training]\n",
    "y_ref_seq_two = [bool(int(d['on_billboard'])) for d in training]\n",
    "\n",
    "X_ref_seq_two_valid = [feat_genres_mean(d) for d in validation]\n",
    "y_ref_seq_two_valid = [bool(int(d['on_billboard'])) for d in validation]"
   ]
  },
  {
   "cell_type": "code",
   "execution_count": 48,
   "metadata": {},
   "outputs": [
    {
     "name": "stdout",
     "output_type": "stream",
     "text": [
      "--------------- Run Naive Bayes ---------------\n",
      "BER: 0.28877863156507266\n",
      "Accuracy: 0.8307861941638033\n",
      "\n",
      "--------------- Run Logistic Regression ---------------\n",
      "BER: 0.24394680273405356\n",
      "Accuracy: 0.7587312169854864\n",
      "\n",
      "--------------- Run SVM ---------------\n",
      "BER: 0.23423874221330476\n",
      "Accuracy: 0.7344479204061747\n",
      "\n",
      "--------------- Run Random Forest ---------------\n",
      "BER: 0.42901460944843206\n",
      "Accuracy: 0.9054310477460382\n",
      "\n"
     ]
    }
   ],
   "source": [
    "model_run_two(X_ref_seq_two, y_ref_seq_two, X_ref_seq_two_valid, y_ref_seq_two_valid)"
   ]
  },
  {
   "cell_type": "markdown",
   "metadata": {},
   "source": [
    "### Genre Superstar"
   ]
  },
  {
   "cell_type": "code",
   "execution_count": 49,
   "metadata": {},
   "outputs": [],
   "source": [
    "def feat_genre_soup(datum):\n",
    "    feat = [0] * len(returned_genres_mean)\n",
    "    superstar = 0\n",
    "    for artist in datum['artists']:\n",
    "        artist_id = artist_ids[artist]\n",
    "        superstar += artist_data[artist_id]['num_billboard']\n",
    "        for genre in artist_data[artist_id]['genres']:\n",
    "            if genre in returned_genres_mean:\n",
    "                feat[genre_ids_mean[genre]] = 1\n",
    "    \n",
    "    feat.append(superstar)\n",
    "    feat.insert(0, 0)\n",
    "    return feat"
   ]
  },
  {
   "cell_type": "code",
   "execution_count": 50,
   "metadata": {},
   "outputs": [],
   "source": [
    "X_ref_seq_three = [feat_genre_soup(d) for d in training]\n",
    "y_ref_seq_three = [bool(int(d['on_billboard'])) for d in training]\n",
    "\n",
    "X_ref_seq_three_valid = [feat_genre_soup(d) for d in validation]\n",
    "y_ref_seq_three_valid = [bool(int(d['on_billboard'])) for d in validation]"
   ]
  },
  {
   "cell_type": "code",
   "execution_count": 51,
   "metadata": {},
   "outputs": [
    {
     "name": "stdout",
     "output_type": "stream",
     "text": [
      "--------------- Run Naive Bayes ---------------\n",
      "BER: 0.3007385292406568\n",
      "Accuracy: 0.8160674906405456\n",
      "\n"
     ]
    },
    {
     "name": "stderr",
     "output_type": "stream",
     "text": [
      "D:\\anaconda3\\lib\\site-packages\\sklearn\\linear_model\\_logistic.py:762: ConvergenceWarning: lbfgs failed to converge (status=1):\n",
      "STOP: TOTAL NO. of ITERATIONS REACHED LIMIT.\n",
      "\n",
      "Increase the number of iterations (max_iter) or scale the data as shown in:\n",
      "    https://scikit-learn.org/stable/modules/preprocessing.html\n",
      "Please also refer to the documentation for alternative solver options:\n",
      "    https://scikit-learn.org/stable/modules/linear_model.html#logistic-regression\n",
      "  n_iter_i = _check_optimize_result(\n"
     ]
    },
    {
     "name": "stdout",
     "output_type": "stream",
     "text": [
      "--------------- Run Logistic Regression ---------------\n",
      "BER: 0.2378217912913071\n",
      "Accuracy: 0.7702959126109031\n",
      "\n"
     ]
    },
    {
     "name": "stderr",
     "output_type": "stream",
     "text": [
      "D:\\anaconda3\\lib\\site-packages\\sklearn\\svm\\_base.py:976: ConvergenceWarning: Liblinear failed to converge, increase the number of iterations.\n",
      "  warnings.warn(\"Liblinear failed to converge, increase \"\n"
     ]
    },
    {
     "name": "stdout",
     "output_type": "stream",
     "text": [
      "--------------- Run SVM ---------------\n",
      "BER: 0.23181279397853916\n",
      "Accuracy: 0.7458331196471614\n",
      "\n",
      "--------------- Run Random Forest ---------------\n",
      "BER: 0.4099561758441246\n",
      "Accuracy: 0.9050976973178112\n",
      "\n"
     ]
    }
   ],
   "source": [
    "model_run_two(X_ref_seq_three, y_ref_seq_three, X_ref_seq_three_valid, y_ref_seq_three_valid)"
   ]
  },
  {
   "cell_type": "markdown",
   "metadata": {},
   "source": [
    "### Genre, Precedence, et. al."
   ]
  },
  {
   "cell_type": "code",
   "execution_count": 52,
   "metadata": {},
   "outputs": [],
   "source": [
    "def feat_genre_soup_plus(datum):\n",
    "    feat = [0] * len(returned_genres_mean)\n",
    "    superstar = 0\n",
    "    tot_artist_pop = 0\n",
    "    for artist in datum['artists']:\n",
    "        artist_id = artist_ids[artist]\n",
    "        superstar += artist_data[artist_id]['num_billboard']\n",
    "        tot_artist_pop += float(artist_data[artist_id]['popularity'])\n",
    "        for genre in artist_data[artist_id]['genres']:\n",
    "            if genre in returned_genres_mean:\n",
    "                feat[genre_ids_mean[genre]] = 1\n",
    "    \n",
    "    feat.append(superstar)\n",
    "    feat.append(tot_artist_pop)\n",
    "    feat.append(float(datum['instrumentalness']))\n",
    "    feat.append(float(datum['danceability']))\n",
    "    feat.append(float(datum['popularity']))\n",
    "    feat.insert(0, 0)\n",
    "    return feat"
   ]
  },
  {
   "cell_type": "code",
   "execution_count": 53,
   "metadata": {},
   "outputs": [],
   "source": [
    "X_ref_seq_four = [feat_genre_soup_plus(d) for d in training]\n",
    "y_ref_seq_four = [bool(int(d['on_billboard'])) for d in training]\n",
    "\n",
    "X_ref_seq_four_valid = [feat_genre_soup_plus(d) for d in validation]\n",
    "y_ref_seq_four_valid = [bool(int(d['on_billboard'])) for d in validation]"
   ]
  },
  {
   "cell_type": "code",
   "execution_count": 54,
   "metadata": {},
   "outputs": [
    {
     "name": "stdout",
     "output_type": "stream",
     "text": [
      "--------------- Run Naive Bayes ---------------\n",
      "BER: 0.317883991997831\n",
      "Accuracy: 0.8045540796963947\n",
      "\n"
     ]
    },
    {
     "name": "stderr",
     "output_type": "stream",
     "text": [
      "D:\\anaconda3\\lib\\site-packages\\sklearn\\linear_model\\_logistic.py:762: ConvergenceWarning: lbfgs failed to converge (status=1):\n",
      "STOP: TOTAL NO. of ITERATIONS REACHED LIMIT.\n",
      "\n",
      "Increase the number of iterations (max_iter) or scale the data as shown in:\n",
      "    https://scikit-learn.org/stable/modules/preprocessing.html\n",
      "Please also refer to the documentation for alternative solver options:\n",
      "    https://scikit-learn.org/stable/modules/linear_model.html#logistic-regression\n",
      "  n_iter_i = _check_optimize_result(\n"
     ]
    },
    {
     "name": "stdout",
     "output_type": "stream",
     "text": [
      "--------------- Run Logistic Regression ---------------\n",
      "BER: 0.1869492083995512\n",
      "Accuracy: 0.7934509462023693\n",
      "\n"
     ]
    },
    {
     "name": "stderr",
     "output_type": "stream",
     "text": [
      "D:\\anaconda3\\lib\\site-packages\\sklearn\\svm\\_base.py:976: ConvergenceWarning: Liblinear failed to converge, increase the number of iterations.\n",
      "  warnings.warn(\"Liblinear failed to converge, increase \"\n"
     ]
    },
    {
     "name": "stdout",
     "output_type": "stream",
     "text": [
      "--------------- Run SVM ---------------\n",
      "BER: 0.19007037382890046\n",
      "Accuracy: 0.8224780757987589\n",
      "\n",
      "--------------- Run Random Forest ---------------\n",
      "BER: 0.35008338823350504\n",
      "Accuracy: 0.9162008308118365\n",
      "\n"
     ]
    }
   ],
   "source": [
    "model_run_two(X_ref_seq_four, y_ref_seq_four, X_ref_seq_four_valid, y_ref_seq_four_valid)"
   ]
  },
  {
   "cell_type": "markdown",
   "metadata": {},
   "source": [
    "## Final Model"
   ]
  },
  {
   "cell_type": "code",
   "execution_count": 65,
   "metadata": {},
   "outputs": [
    {
     "data": {
      "text/plain": [
       "610"
      ]
     },
     "execution_count": 65,
     "metadata": {},
     "output_type": "execute_result"
    }
   ],
   "source": [
    "genre"
   ]
  },
  {
   "cell_type": "code",
   "execution_count": null,
   "metadata": {},
   "outputs": [],
   "source": [
    "# Cross-Reference with Artist Data Possibly\n",
    "# Any Derived Features?????????? -> Genre for Categorization\n",
    "# Incorporate the Temporal Elements??????"
   ]
  },
  {
   "cell_type": "markdown",
   "metadata": {},
   "source": [
    "## Random Shit from the Past"
   ]
  },
  {
   "cell_type": "code",
   "execution_count": 11,
   "metadata": {},
   "outputs": [],
   "source": [
    "import spotipy\n",
    "import sys\n",
    "from spotipy.oauth2 import SpotifyClientCredentials"
   ]
  },
  {
   "cell_type": "code",
   "execution_count": 100,
   "metadata": {},
   "outputs": [],
   "source": [
    "# client_credentials_manager = SpotifyClientCredentials()\n",
    "# sp = spotipy.Spotify(client_credentials_manager=client_credentials_manager)\n",
    "spotify.trace = False"
   ]
  },
  {
   "cell_type": "code",
   "execution_count": 41,
   "metadata": {},
   "outputs": [],
   "source": [
    "findURI = spotify.search(q='artist:' + data[0]['artist'], limit=50)"
   ]
  },
  {
   "cell_type": "code",
   "execution_count": 13,
   "metadata": {},
   "outputs": [],
   "source": [
    "findURI = spotify.search(q='year:1955', limit=50)"
   ]
  },
  {
   "cell_type": "code",
   "execution_count": 56,
   "metadata": {},
   "outputs": [],
   "source": [
    "uri = findURI['tracks']['items'][0]['uri']\n",
    "# for i, t in enumerate(findURI['tracks']['items']):\n",
    "#     print(i)\n",
    "#     print(t)"
   ]
  },
  {
   "cell_type": "code",
   "execution_count": 9,
   "metadata": {},
   "outputs": [],
   "source": [
    "# load Billboard dataset\n",
    "df = pd.read_csv('billboard_hot_100_all.tsv', sep='\\t', encoding = \"ISO-8859-1\")"
   ]
  },
  {
   "cell_type": "code",
   "execution_count": 11,
   "metadata": {},
   "outputs": [
    {
     "data": {
      "text/html": [
       "<div>\n",
       "<style scoped>\n",
       "    .dataframe tbody tr th:only-of-type {\n",
       "        vertical-align: middle;\n",
       "    }\n",
       "\n",
       "    .dataframe tbody tr th {\n",
       "        vertical-align: top;\n",
       "    }\n",
       "\n",
       "    .dataframe thead th {\n",
       "        text-align: right;\n",
       "    }\n",
       "</style>\n",
       "<table border=\"1\" class=\"dataframe\">\n",
       "  <thead>\n",
       "    <tr style=\"text-align: right;\">\n",
       "      <th></th>\n",
       "      <th>Date</th>\n",
       "      <th>Song</th>\n",
       "      <th>Artist</th>\n",
       "      <th>Peak Position</th>\n",
       "      <th>Last Position</th>\n",
       "      <th>Weeks on Chart</th>\n",
       "      <th>Rank</th>\n",
       "      <th>isNew</th>\n",
       "    </tr>\n",
       "  </thead>\n",
       "  <tbody>\n",
       "    <tr>\n",
       "      <th>325277</th>\n",
       "      <td>1958-08-11</td>\n",
       "      <td>All I Have To Do Is Dream</td>\n",
       "      <td>The Everly Brothers</td>\n",
       "      <td>49</td>\n",
       "      <td>49</td>\n",
       "      <td>2</td>\n",
       "      <td>91</td>\n",
       "      <td>False</td>\n",
       "    </tr>\n",
       "    <tr>\n",
       "      <th>325278</th>\n",
       "      <td>1958-08-11</td>\n",
       "      <td>La Paloma</td>\n",
       "      <td>Billy Vaughn And His Orchestra</td>\n",
       "      <td>92</td>\n",
       "      <td>0</td>\n",
       "      <td>1</td>\n",
       "      <td>92</td>\n",
       "      <td>True</td>\n",
       "    </tr>\n",
       "    <tr>\n",
       "      <th>325279</th>\n",
       "      <td>1958-08-11</td>\n",
       "      <td>I Believe In You</td>\n",
       "      <td>Robert &amp; Johnny</td>\n",
       "      <td>93</td>\n",
       "      <td>97</td>\n",
       "      <td>2</td>\n",
       "      <td>93</td>\n",
       "      <td>False</td>\n",
       "    </tr>\n",
       "    <tr>\n",
       "      <th>325280</th>\n",
       "      <td>1958-08-11</td>\n",
       "      <td>Midnighter</td>\n",
       "      <td>The Champs</td>\n",
       "      <td>94</td>\n",
       "      <td>0</td>\n",
       "      <td>1</td>\n",
       "      <td>94</td>\n",
       "      <td>True</td>\n",
       "    </tr>\n",
       "    <tr>\n",
       "      <th>325281</th>\n",
       "      <td>1958-08-11</td>\n",
       "      <td>Chariot Rock</td>\n",
       "      <td>The Champs</td>\n",
       "      <td>95</td>\n",
       "      <td>0</td>\n",
       "      <td>1</td>\n",
       "      <td>95</td>\n",
       "      <td>True</td>\n",
       "    </tr>\n",
       "    <tr>\n",
       "      <th>325282</th>\n",
       "      <td>1958-08-11</td>\n",
       "      <td>Down In Virginia</td>\n",
       "      <td>Jimmy Reed</td>\n",
       "      <td>96</td>\n",
       "      <td>0</td>\n",
       "      <td>1</td>\n",
       "      <td>96</td>\n",
       "      <td>True</td>\n",
       "    </tr>\n",
       "    <tr>\n",
       "      <th>325283</th>\n",
       "      <td>1958-08-11</td>\n",
       "      <td>Sunday Barbecue</td>\n",
       "      <td>Tennessee Ernie Ford</td>\n",
       "      <td>97</td>\n",
       "      <td>0</td>\n",
       "      <td>1</td>\n",
       "      <td>97</td>\n",
       "      <td>True</td>\n",
       "    </tr>\n",
       "    <tr>\n",
       "      <th>325284</th>\n",
       "      <td>1958-08-11</td>\n",
       "      <td>Gotta Have Rain</td>\n",
       "      <td>Eydie Gorme</td>\n",
       "      <td>74</td>\n",
       "      <td>74</td>\n",
       "      <td>2</td>\n",
       "      <td>98</td>\n",
       "      <td>False</td>\n",
       "    </tr>\n",
       "    <tr>\n",
       "      <th>325285</th>\n",
       "      <td>1958-08-11</td>\n",
       "      <td>Nothing In The World</td>\n",
       "      <td>Nat King Cole</td>\n",
       "      <td>99</td>\n",
       "      <td>0</td>\n",
       "      <td>1</td>\n",
       "      <td>99</td>\n",
       "      <td>True</td>\n",
       "    </tr>\n",
       "    <tr>\n",
       "      <th>325286</th>\n",
       "      <td>1958-08-11</td>\n",
       "      <td>Baubles, Bangles And Beads</td>\n",
       "      <td>The Kirby Stone Four</td>\n",
       "      <td>50</td>\n",
       "      <td>50</td>\n",
       "      <td>2</td>\n",
       "      <td>100</td>\n",
       "      <td>False</td>\n",
       "    </tr>\n",
       "  </tbody>\n",
       "</table>\n",
       "</div>"
      ],
      "text/plain": [
       "              Date                        Song  \\\n",
       "325277  1958-08-11   All I Have To Do Is Dream   \n",
       "325278  1958-08-11                   La Paloma   \n",
       "325279  1958-08-11            I Believe In You   \n",
       "325280  1958-08-11                  Midnighter   \n",
       "325281  1958-08-11                Chariot Rock   \n",
       "325282  1958-08-11            Down In Virginia   \n",
       "325283  1958-08-11             Sunday Barbecue   \n",
       "325284  1958-08-11             Gotta Have Rain   \n",
       "325285  1958-08-11        Nothing In The World   \n",
       "325286  1958-08-11  Baubles, Bangles And Beads   \n",
       "\n",
       "                                Artist   Peak Position   Last Position  \\\n",
       "325277             The Everly Brothers              49              49   \n",
       "325278  Billy Vaughn And His Orchestra              92               0   \n",
       "325279                 Robert & Johnny              93              97   \n",
       "325280                      The Champs              94               0   \n",
       "325281                      The Champs              95               0   \n",
       "325282                      Jimmy Reed              96               0   \n",
       "325283            Tennessee Ernie Ford              97               0   \n",
       "325284                     Eydie Gorme              74              74   \n",
       "325285                   Nat King Cole              99               0   \n",
       "325286            The Kirby Stone Four              50              50   \n",
       "\n",
       "         Weeks on Chart   Rank   isNew  \n",
       "325277                2     91   False  \n",
       "325278                1     92    True  \n",
       "325279                2     93   False  \n",
       "325280                1     94    True  \n",
       "325281                1     95    True  \n",
       "325282                1     96    True  \n",
       "325283                1     97    True  \n",
       "325284                2     98   False  \n",
       "325285                1     99    True  \n",
       "325286                2    100   False  "
      ]
     },
     "execution_count": 11,
     "metadata": {},
     "output_type": "execute_result"
    }
   ],
   "source": [
    "df.tail(10)"
   ]
  },
  {
   "cell_type": "code",
   "execution_count": 54,
   "metadata": {},
   "outputs": [
    {
     "data": {
      "text/plain": [
       "'2020'"
      ]
     },
     "execution_count": 54,
     "metadata": {},
     "output_type": "execute_result"
    }
   ],
   "source": [
    "df.iloc[0].Date[-4:]"
   ]
  },
  {
   "cell_type": "code",
   "execution_count": 55,
   "metadata": {},
   "outputs": [],
   "source": [
    "# Remove all rows containing date of \"2020\"\n",
    "cleaned_df = df[~df.Date.str.contains('2020', na=False)] "
   ]
  },
  {
   "cell_type": "code",
   "execution_count": 56,
   "metadata": {},
   "outputs": [
    {
     "data": {
      "text/html": [
       "<div>\n",
       "<style scoped>\n",
       "    .dataframe tbody tr th:only-of-type {\n",
       "        vertical-align: middle;\n",
       "    }\n",
       "\n",
       "    .dataframe tbody tr th {\n",
       "        vertical-align: top;\n",
       "    }\n",
       "\n",
       "    .dataframe thead th {\n",
       "        text-align: right;\n",
       "    }\n",
       "</style>\n",
       "<table border=\"1\" class=\"dataframe\">\n",
       "  <thead>\n",
       "    <tr style=\"text-align: right;\">\n",
       "      <th></th>\n",
       "      <th>Date</th>\n",
       "      <th>Song</th>\n",
       "      <th>Artist</th>\n",
       "      <th>Peak Position</th>\n",
       "      <th>Last Position</th>\n",
       "      <th>Weeks on Chart</th>\n",
       "      <th>Rank</th>\n",
       "      <th>isNew</th>\n",
       "    </tr>\n",
       "  </thead>\n",
       "  <tbody>\n",
       "    <tr>\n",
       "      <th>4900</th>\n",
       "      <td>12/28/2019</td>\n",
       "      <td>All I Want For Christmas Is You</td>\n",
       "      <td>Mariah Carey</td>\n",
       "      <td>1</td>\n",
       "      <td>1</td>\n",
       "      <td>36</td>\n",
       "      <td>1</td>\n",
       "      <td>False</td>\n",
       "    </tr>\n",
       "    <tr>\n",
       "      <th>4901</th>\n",
       "      <td>12/28/2019</td>\n",
       "      <td>Rockin' Around The Christmas Tree</td>\n",
       "      <td>Brenda Lee</td>\n",
       "      <td>2</td>\n",
       "      <td>3</td>\n",
       "      <td>31</td>\n",
       "      <td>2</td>\n",
       "      <td>False</td>\n",
       "    </tr>\n",
       "    <tr>\n",
       "      <th>4902</th>\n",
       "      <td>12/28/2019</td>\n",
       "      <td>Circles</td>\n",
       "      <td>Post Malone</td>\n",
       "      <td>1</td>\n",
       "      <td>2</td>\n",
       "      <td>16</td>\n",
       "      <td>3</td>\n",
       "      <td>False</td>\n",
       "    </tr>\n",
       "    <tr>\n",
       "      <th>4903</th>\n",
       "      <td>12/28/2019</td>\n",
       "      <td>Roxanne</td>\n",
       "      <td>Arizona Zervas</td>\n",
       "      <td>4</td>\n",
       "      <td>6</td>\n",
       "      <td>7</td>\n",
       "      <td>4</td>\n",
       "      <td>False</td>\n",
       "    </tr>\n",
       "    <tr>\n",
       "      <th>4904</th>\n",
       "      <td>12/28/2019</td>\n",
       "      <td>Futsal Shuffle 2020</td>\n",
       "      <td>Lil Uzi Vert</td>\n",
       "      <td>5</td>\n",
       "      <td>0</td>\n",
       "      <td>1</td>\n",
       "      <td>5</td>\n",
       "      <td>True</td>\n",
       "    </tr>\n",
       "    <tr>\n",
       "      <th>4905</th>\n",
       "      <td>12/28/2019</td>\n",
       "      <td>A Holly Jolly Christmas</td>\n",
       "      <td>Burl Ives</td>\n",
       "      <td>6</td>\n",
       "      <td>10</td>\n",
       "      <td>14</td>\n",
       "      <td>6</td>\n",
       "      <td>False</td>\n",
       "    </tr>\n",
       "    <tr>\n",
       "      <th>4906</th>\n",
       "      <td>12/28/2019</td>\n",
       "      <td>Memories</td>\n",
       "      <td>Maroon 5</td>\n",
       "      <td>4</td>\n",
       "      <td>7</td>\n",
       "      <td>13</td>\n",
       "      <td>7</td>\n",
       "      <td>False</td>\n",
       "    </tr>\n",
       "    <tr>\n",
       "      <th>4907</th>\n",
       "      <td>12/28/2019</td>\n",
       "      <td>Someone You Loved</td>\n",
       "      <td>Lewis Capaldi</td>\n",
       "      <td>1</td>\n",
       "      <td>4</td>\n",
       "      <td>32</td>\n",
       "      <td>8</td>\n",
       "      <td>False</td>\n",
       "    </tr>\n",
       "    <tr>\n",
       "      <th>4908</th>\n",
       "      <td>12/28/2019</td>\n",
       "      <td>Jingle Bell Rock</td>\n",
       "      <td>Bobby Helms</td>\n",
       "      <td>8</td>\n",
       "      <td>15</td>\n",
       "      <td>29</td>\n",
       "      <td>9</td>\n",
       "      <td>False</td>\n",
       "    </tr>\n",
       "    <tr>\n",
       "      <th>4909</th>\n",
       "      <td>12/28/2019</td>\n",
       "      <td>Good As Hell</td>\n",
       "      <td>Lizzo</td>\n",
       "      <td>3</td>\n",
       "      <td>5</td>\n",
       "      <td>17</td>\n",
       "      <td>10</td>\n",
       "      <td>False</td>\n",
       "    </tr>\n",
       "  </tbody>\n",
       "</table>\n",
       "</div>"
      ],
      "text/plain": [
       "            Date                               Song          Artist  \\\n",
       "4900  12/28/2019    All I Want For Christmas Is You    Mariah Carey   \n",
       "4901  12/28/2019  Rockin' Around The Christmas Tree      Brenda Lee   \n",
       "4902  12/28/2019                            Circles     Post Malone   \n",
       "4903  12/28/2019                            Roxanne  Arizona Zervas   \n",
       "4904  12/28/2019                Futsal Shuffle 2020    Lil Uzi Vert   \n",
       "4905  12/28/2019            A Holly Jolly Christmas       Burl Ives   \n",
       "4906  12/28/2019                           Memories        Maroon 5   \n",
       "4907  12/28/2019                  Someone You Loved   Lewis Capaldi   \n",
       "4908  12/28/2019                   Jingle Bell Rock     Bobby Helms   \n",
       "4909  12/28/2019                       Good As Hell           Lizzo   \n",
       "\n",
       "      Peak Position  Last Position  Weeks on Chart  Rank  isNew  \n",
       "4900              1              1              36     1  False  \n",
       "4901              2              3              31     2  False  \n",
       "4902              1              2              16     3  False  \n",
       "4903              4              6               7     4  False  \n",
       "4904              5              0               1     5   True  \n",
       "4905              6             10              14     6  False  \n",
       "4906              4              7              13     7  False  \n",
       "4907              1              4              32     8  False  \n",
       "4908              8             15              29     9  False  \n",
       "4909              3              5              17    10  False  "
      ]
     },
     "execution_count": 56,
     "metadata": {},
     "output_type": "execute_result"
    }
   ],
   "source": [
    "cleaned_df.head(10)"
   ]
  },
  {
   "cell_type": "code",
   "execution_count": 142,
   "metadata": {},
   "outputs": [],
   "source": [
    "# Dictionary with key=[YEAR] which maps to a set of all distinct songs of that year\n",
    "year_song_dict = defaultdict(set)"
   ]
  },
  {
   "cell_type": "code",
   "execution_count": 143,
   "metadata": {},
   "outputs": [],
   "source": [
    "# Get each row of df \n",
    "for _, row in cleaned_df.iterrows():\n",
    "    year = row['Date'][-4:]\n",
    "    song = row['Song']\n",
    "    artist = row['Artist']\n",
    "    # Delete everything after \"featuring\"\n",
    "    idx = -1\n",
    "    idx = row['Artist'].find(\" Feat\")\n",
    "    if idx == -1:\n",
    "        idx = row['Artist'].find(\" feat\")\n",
    "    if idx != -1:\n",
    "        artist = artist[:idx]\n",
    "    \n",
    "    # Remove all the \"&\"\n",
    "    artist = artist.replace(\" & \", \" \")\n",
    "    artist = artist.replace(\" and \", \" \")\n",
    "    artist = artist.replace(\" And \", \" \")\n",
    "    artist = artist.replace(\" with \", \" \")\n",
    "    artist = artist.replace(\" With \", \" \")\n",
    "    artist = artist.replace(\" X \", \" \")\n",
    "    artist = artist.replace(\" x \", \" \")\n",
    "    \n",
    "#     print(row['Song'])\n",
    "    year_song_dict[year].add((song, artist))"
   ]
  },
  {
   "cell_type": "code",
   "execution_count": 12,
   "metadata": {},
   "outputs": [],
   "source": [
    "# Get spotify dataset\n",
    "s_df = pd.read_csv('data.csv')"
   ]
  },
  {
   "cell_type": "code",
   "execution_count": 18,
   "metadata": {},
   "outputs": [],
   "source": [
    "# Reorder columns in dataframes\n",
    "s_df = s_df[['id', 'name', 'artists', 'year', 'release_date', 'duration_ms', 'valence', 'acousticness', 'danceability', 'energy', 'explicit', 'instrumentalness', 'key', 'liveness', 'loudness', 'mode', 'popularity', 'speechiness', 'tempo']]\n",
    "# Create new column to hold boolean of whether it has been on Billboard or not\n",
    "s_df['on_billboard'] = 0"
   ]
  },
  {
   "cell_type": "code",
   "execution_count": 19,
   "metadata": {},
   "outputs": [],
   "source": [
    "s_df.sort_values(by=['year'])\n",
    "s_df = s_df[s_df['year'] >= 1940]"
   ]
  },
  {
   "cell_type": "code",
   "execution_count": 27,
   "metadata": {},
   "outputs": [
    {
     "data": {
      "text/html": [
       "<div>\n",
       "<style scoped>\n",
       "    .dataframe tbody tr th:only-of-type {\n",
       "        vertical-align: middle;\n",
       "    }\n",
       "\n",
       "    .dataframe tbody tr th {\n",
       "        vertical-align: top;\n",
       "    }\n",
       "\n",
       "    .dataframe thead th {\n",
       "        text-align: right;\n",
       "    }\n",
       "</style>\n",
       "<table border=\"1\" class=\"dataframe\">\n",
       "  <thead>\n",
       "    <tr style=\"text-align: right;\">\n",
       "      <th></th>\n",
       "      <th>level_0</th>\n",
       "      <th>id</th>\n",
       "      <th>name</th>\n",
       "      <th>artists</th>\n",
       "      <th>year</th>\n",
       "      <th>release_date</th>\n",
       "      <th>duration_ms</th>\n",
       "      <th>valence</th>\n",
       "      <th>acousticness</th>\n",
       "      <th>danceability</th>\n",
       "      <th>...</th>\n",
       "      <th>explicit</th>\n",
       "      <th>instrumentalness</th>\n",
       "      <th>key</th>\n",
       "      <th>liveness</th>\n",
       "      <th>loudness</th>\n",
       "      <th>mode</th>\n",
       "      <th>popularity</th>\n",
       "      <th>speechiness</th>\n",
       "      <th>tempo</th>\n",
       "      <th>on_billboard</th>\n",
       "    </tr>\n",
       "  </thead>\n",
       "  <tbody>\n",
       "    <tr>\n",
       "      <th>0</th>\n",
       "      <td>0</td>\n",
       "      <td>6kucJsz2GR6oN8glzqGdTh</td>\n",
       "      <td>Main Title - Gone With the Wind</td>\n",
       "      <td>['Max Steiner']</td>\n",
       "      <td>1940</td>\n",
       "      <td>1940-01-17</td>\n",
       "      <td>246773</td>\n",
       "      <td>0.171</td>\n",
       "      <td>0.680</td>\n",
       "      <td>0.170</td>\n",
       "      <td>...</td>\n",
       "      <td>0</td>\n",
       "      <td>0.854000</td>\n",
       "      <td>5</td>\n",
       "      <td>0.459</td>\n",
       "      <td>-8.326</td>\n",
       "      <td>1</td>\n",
       "      <td>33</td>\n",
       "      <td>0.0357</td>\n",
       "      <td>121.800</td>\n",
       "      <td>0</td>\n",
       "    </tr>\n",
       "    <tr>\n",
       "      <th>1</th>\n",
       "      <td>1</td>\n",
       "      <td>3LKwoKXJBpWBSKID58IgYw</td>\n",
       "      <td>Let's Do It (with Eddie Heywood &amp; His Orchestr...</td>\n",
       "      <td>['Billie Holiday', 'Eddie Heywood']</td>\n",
       "      <td>1940</td>\n",
       "      <td>1940</td>\n",
       "      <td>175893</td>\n",
       "      <td>0.597</td>\n",
       "      <td>0.983</td>\n",
       "      <td>0.543</td>\n",
       "      <td>...</td>\n",
       "      <td>0</td>\n",
       "      <td>0.000171</td>\n",
       "      <td>5</td>\n",
       "      <td>0.258</td>\n",
       "      <td>-14.450</td>\n",
       "      <td>0</td>\n",
       "      <td>23</td>\n",
       "      <td>0.0537</td>\n",
       "      <td>142.312</td>\n",
       "      <td>0</td>\n",
       "    </tr>\n",
       "    <tr>\n",
       "      <th>2</th>\n",
       "      <td>2</td>\n",
       "      <td>1GoA6bkY0rZsc7aAHGlfl5</td>\n",
       "      <td>9:20 Special</td>\n",
       "      <td>['Count Basie']</td>\n",
       "      <td>1940</td>\n",
       "      <td>1940</td>\n",
       "      <td>187400</td>\n",
       "      <td>0.876</td>\n",
       "      <td>0.871</td>\n",
       "      <td>0.513</td>\n",
       "      <td>...</td>\n",
       "      <td>0</td>\n",
       "      <td>0.089200</td>\n",
       "      <td>2</td>\n",
       "      <td>0.297</td>\n",
       "      <td>-14.557</td>\n",
       "      <td>0</td>\n",
       "      <td>27</td>\n",
       "      <td>0.1010</td>\n",
       "      <td>198.665</td>\n",
       "      <td>0</td>\n",
       "    </tr>\n",
       "    <tr>\n",
       "      <th>3</th>\n",
       "      <td>3</td>\n",
       "      <td>5SikmTT1Bf2M1NetWLeDyi</td>\n",
       "      <td>Seven Come Eleven (feat. Benny Goodman &amp; Charl...</td>\n",
       "      <td>['Benny Goodman Sextet', 'Benny Goodman', 'Cha...</td>\n",
       "      <td>1940</td>\n",
       "      <td>1940</td>\n",
       "      <td>165800</td>\n",
       "      <td>0.823</td>\n",
       "      <td>0.727</td>\n",
       "      <td>0.703</td>\n",
       "      <td>...</td>\n",
       "      <td>0</td>\n",
       "      <td>0.016000</td>\n",
       "      <td>1</td>\n",
       "      <td>0.185</td>\n",
       "      <td>-6.975</td>\n",
       "      <td>1</td>\n",
       "      <td>26</td>\n",
       "      <td>0.0292</td>\n",
       "      <td>115.688</td>\n",
       "      <td>0</td>\n",
       "    </tr>\n",
       "    <tr>\n",
       "      <th>4</th>\n",
       "      <td>4</td>\n",
       "      <td>5HjcDXSfMbBmG4x04wELjK</td>\n",
       "      <td>Final Speech (From \"The Great Dictator\")</td>\n",
       "      <td>['Charlie Chaplin']</td>\n",
       "      <td>1940</td>\n",
       "      <td>1940</td>\n",
       "      <td>222867</td>\n",
       "      <td>0.629</td>\n",
       "      <td>0.885</td>\n",
       "      <td>0.721</td>\n",
       "      <td>...</td>\n",
       "      <td>0</td>\n",
       "      <td>0.000000</td>\n",
       "      <td>2</td>\n",
       "      <td>0.503</td>\n",
       "      <td>-8.429</td>\n",
       "      <td>1</td>\n",
       "      <td>25</td>\n",
       "      <td>0.6590</td>\n",
       "      <td>124.404</td>\n",
       "      <td>0</td>\n",
       "    </tr>\n",
       "  </tbody>\n",
       "</table>\n",
       "<p>5 rows × 21 columns</p>\n",
       "</div>"
      ],
      "text/plain": [
       "   level_0                      id  \\\n",
       "0        0  6kucJsz2GR6oN8glzqGdTh   \n",
       "1        1  3LKwoKXJBpWBSKID58IgYw   \n",
       "2        2  1GoA6bkY0rZsc7aAHGlfl5   \n",
       "3        3  5SikmTT1Bf2M1NetWLeDyi   \n",
       "4        4  5HjcDXSfMbBmG4x04wELjK   \n",
       "\n",
       "                                                name  \\\n",
       "0                    Main Title - Gone With the Wind   \n",
       "1  Let's Do It (with Eddie Heywood & His Orchestr...   \n",
       "2                                       9:20 Special   \n",
       "3  Seven Come Eleven (feat. Benny Goodman & Charl...   \n",
       "4           Final Speech (From \"The Great Dictator\")   \n",
       "\n",
       "                                             artists  year release_date  \\\n",
       "0                                    ['Max Steiner']  1940   1940-01-17   \n",
       "1                ['Billie Holiday', 'Eddie Heywood']  1940         1940   \n",
       "2                                    ['Count Basie']  1940         1940   \n",
       "3  ['Benny Goodman Sextet', 'Benny Goodman', 'Cha...  1940         1940   \n",
       "4                                ['Charlie Chaplin']  1940         1940   \n",
       "\n",
       "   duration_ms  valence  acousticness  danceability  ...  explicit  \\\n",
       "0       246773    0.171         0.680         0.170  ...         0   \n",
       "1       175893    0.597         0.983         0.543  ...         0   \n",
       "2       187400    0.876         0.871         0.513  ...         0   \n",
       "3       165800    0.823         0.727         0.703  ...         0   \n",
       "4       222867    0.629         0.885         0.721  ...         0   \n",
       "\n",
       "   instrumentalness  key  liveness  loudness  mode  popularity  speechiness  \\\n",
       "0          0.854000    5     0.459    -8.326     1          33       0.0357   \n",
       "1          0.000171    5     0.258   -14.450     0          23       0.0537   \n",
       "2          0.089200    2     0.297   -14.557     0          27       0.1010   \n",
       "3          0.016000    1     0.185    -6.975     1          26       0.0292   \n",
       "4          0.000000    2     0.503    -8.429     1          25       0.6590   \n",
       "\n",
       "     tempo  on_billboard  \n",
       "0  121.800             0  \n",
       "1  142.312             0  \n",
       "2  198.665             0  \n",
       "3  115.688             0  \n",
       "4  124.404             0  \n",
       "\n",
       "[5 rows x 21 columns]"
      ]
     },
     "execution_count": 27,
     "metadata": {},
     "output_type": "execute_result"
    }
   ],
   "source": [
    "s_df = s_df.reset_index()\n",
    "s_df = s_df.drop(columns = [\"index\"])"
   ]
  },
  {
   "cell_type": "code",
   "execution_count": 294,
   "metadata": {},
   "outputs": [
    {
     "name": "stdout",
     "output_type": "stream",
     "text": [
      "Setting for year: 1963\n",
      "Setting for year: 1962\n",
      "Setting for year: 1961\n",
      "Setting for year: 1960\n",
      "Setting for year: 1959\n",
      "Setting for year: 1958\n"
     ]
    }
   ],
   "source": [
    "# Iterate through set\n",
    "for r in range(1963, 1957, -1):\n",
    "    \n",
    "    print(\"Setting for year: {}\".format(r))\n",
    "    \n",
    "    for song, artist in year_song_dict[str(r)]:\n",
    "#         print(song, artist)\n",
    "        # Search on spotify for song\n",
    "        search_str = \"{} {}\".format(song, artist)\n",
    "        findURI = spotify.search(q=search_str, limit=1)\n",
    "\n",
    "        # If we don't have any songs pop up, song is not on Spotify\n",
    "        if len(findURI['tracks']) == 0 or len(findURI['tracks']['items']) == 0:\n",
    "            continue\n",
    "            \n",
    "        # Get id of the song\n",
    "        uri = findURI['tracks']['items'][0]['uri']\n",
    "        features = spotify.audio_features(uri)\n",
    "        s_id = features[0]['id']\n",
    "        \n",
    "        # Find the row where == song id\n",
    "        row = s_df.loc[s_df['id'] == s_id]\n",
    "        \n",
    "        # Song isn't in dataset, skip\n",
    "        if len(row) == 0:\n",
    "            continue\n",
    "            \n",
    "        s_df.loc[s_df['id'] == s_id, ['on_billboard']] = 1 \n",
    "#         row = s_df.loc[s_df['id'] == s_id]\n",
    "#         print(row['year_on_billboard'].tolist())\n",
    "#         print(row['on_billboard'])\n",
    "#         print(row['year_on_billboard'])\n",
    "        list(row['year_on_billboard']).append(r)"
   ]
  },
  {
   "cell_type": "code",
   "execution_count": 296,
   "metadata": {},
   "outputs": [],
   "source": [
    "s_df.to_csv('combined_spotify_data.csv')"
   ]
  },
  {
   "cell_type": "code",
   "execution_count": 283,
   "metadata": {},
   "outputs": [],
   "source": [
    "findURI = spotify.search(q=\"You Saved My Soul Burton Cummings\", limit=1)"
   ]
  },
  {
   "cell_type": "code",
   "execution_count": 285,
   "metadata": {},
   "outputs": [],
   "source": [
    "uri = findURI['tracks']['items'][0]['uri']"
   ]
  },
  {
   "cell_type": "code",
   "execution_count": 287,
   "metadata": {},
   "outputs": [],
   "source": [
    "features = spotify.audio_features(uri)"
   ]
  },
  {
   "cell_type": "code",
   "execution_count": 169,
   "metadata": {},
   "outputs": [],
   "source": [
    "s_df.loc[s_df['id'] == '5MPPttjfGap2C6j6eKcO6J', ['on_billboard']] = 1 "
   ]
  },
  {
   "cell_type": "code",
   "execution_count": 248,
   "metadata": {},
   "outputs": [],
   "source": [
    "row = s_df.loc[s_df['id'] == '2QEnZJ8FwpBoyLKcFcgceT']"
   ]
  },
  {
   "cell_type": "code",
   "execution_count": 251,
   "metadata": {},
   "outputs": [
    {
     "data": {
      "text/html": [
       "<div>\n",
       "<style scoped>\n",
       "    .dataframe tbody tr th:only-of-type {\n",
       "        vertical-align: middle;\n",
       "    }\n",
       "\n",
       "    .dataframe tbody tr th {\n",
       "        vertical-align: top;\n",
       "    }\n",
       "\n",
       "    .dataframe thead th {\n",
       "        text-align: right;\n",
       "    }\n",
       "</style>\n",
       "<table border=\"1\" class=\"dataframe\">\n",
       "  <thead>\n",
       "    <tr style=\"text-align: right;\">\n",
       "      <th></th>\n",
       "      <th>id</th>\n",
       "      <th>name</th>\n",
       "      <th>artists</th>\n",
       "      <th>year</th>\n",
       "      <th>release_date</th>\n",
       "      <th>duration_ms</th>\n",
       "      <th>valence</th>\n",
       "      <th>acousticness</th>\n",
       "      <th>danceability</th>\n",
       "      <th>energy</th>\n",
       "      <th>...</th>\n",
       "      <th>instrumentalness</th>\n",
       "      <th>key</th>\n",
       "      <th>liveness</th>\n",
       "      <th>loudness</th>\n",
       "      <th>mode</th>\n",
       "      <th>popularity</th>\n",
       "      <th>speechiness</th>\n",
       "      <th>tempo</th>\n",
       "      <th>on_billboard</th>\n",
       "      <th>year_on_billboard</th>\n",
       "    </tr>\n",
       "  </thead>\n",
       "  <tbody>\n",
       "  </tbody>\n",
       "</table>\n",
       "<p>0 rows × 21 columns</p>\n",
       "</div>"
      ],
      "text/plain": [
       "Empty DataFrame\n",
       "Columns: [id, name, artists, year, release_date, duration_ms, valence, acousticness, danceability, energy, explicit, instrumentalness, key, liveness, loudness, mode, popularity, speechiness, tempo, on_billboard, year_on_billboard]\n",
       "Index: []\n",
       "\n",
       "[0 rows x 21 columns]"
      ]
     },
     "execution_count": 251,
     "metadata": {},
     "output_type": "execute_result"
    }
   ],
   "source": [
    "row"
   ]
  },
  {
   "cell_type": "code",
   "execution_count": 194,
   "metadata": {},
   "outputs": [],
   "source": [
    "list(row['year_on_billboard'])[0].append(\"2019\")"
   ]
  },
  {
   "cell_type": "code",
   "execution_count": 252,
   "metadata": {},
   "outputs": [
    {
     "data": {
      "text/plain": [
       "0"
      ]
     },
     "execution_count": 252,
     "metadata": {},
     "output_type": "execute_result"
    }
   ],
   "source": [
    "len(row)"
   ]
  },
  {
   "cell_type": "code",
   "execution_count": 2,
   "metadata": {},
   "outputs": [],
   "source": [
    "df = pd.read_csv('combined_spotify_data.csv', encoding = \"ISO-8859-1\")"
   ]
  },
  {
   "cell_type": "code",
   "execution_count": 3,
   "metadata": {},
   "outputs": [],
   "source": [
    "df = df.iloc[26170:]"
   ]
  },
  {
   "cell_type": "code",
   "execution_count": 6,
   "metadata": {},
   "outputs": [
    {
     "data": {
      "text/html": [
       "<div>\n",
       "<style scoped>\n",
       "    .dataframe tbody tr th:only-of-type {\n",
       "        vertical-align: middle;\n",
       "    }\n",
       "\n",
       "    .dataframe tbody tr th {\n",
       "        vertical-align: top;\n",
       "    }\n",
       "\n",
       "    .dataframe thead th {\n",
       "        text-align: right;\n",
       "    }\n",
       "</style>\n",
       "<table border=\"1\" class=\"dataframe\">\n",
       "  <thead>\n",
       "    <tr style=\"text-align: right;\">\n",
       "      <th></th>\n",
       "      <th>index</th>\n",
       "      <th>Unnamed: 0</th>\n",
       "      <th>id</th>\n",
       "      <th>name</th>\n",
       "      <th>artists</th>\n",
       "      <th>year</th>\n",
       "      <th>release_date</th>\n",
       "      <th>duration_ms</th>\n",
       "      <th>valence</th>\n",
       "      <th>acousticness</th>\n",
       "      <th>...</th>\n",
       "      <th>instrumentalness</th>\n",
       "      <th>key</th>\n",
       "      <th>liveness</th>\n",
       "      <th>loudness</th>\n",
       "      <th>mode</th>\n",
       "      <th>popularity</th>\n",
       "      <th>speechiness</th>\n",
       "      <th>tempo</th>\n",
       "      <th>on_billboard</th>\n",
       "      <th>year_on_billboard</th>\n",
       "    </tr>\n",
       "  </thead>\n",
       "  <tbody>\n",
       "    <tr>\n",
       "      <td>0</td>\n",
       "      <td>26170</td>\n",
       "      <td>26170</td>\n",
       "      <td>43qTHtzIXt8ehFgcncwglq</td>\n",
       "      <td>Locomotion - Rudy Van Gelder Edition/2003 Digi...</td>\n",
       "      <td>['John Coltrane']</td>\n",
       "      <td>1958</td>\n",
       "      <td>1958</td>\n",
       "      <td>434240</td>\n",
       "      <td>0.851</td>\n",
       "      <td>0.765</td>\n",
       "      <td>...</td>\n",
       "      <td>0.017700</td>\n",
       "      <td>3</td>\n",
       "      <td>0.320</td>\n",
       "      <td>-6.864</td>\n",
       "      <td>1</td>\n",
       "      <td>36</td>\n",
       "      <td>0.0520</td>\n",
       "      <td>133.913</td>\n",
       "      <td>0</td>\n",
       "      <td>[]</td>\n",
       "    </tr>\n",
       "    <tr>\n",
       "      <td>1</td>\n",
       "      <td>26171</td>\n",
       "      <td>26171</td>\n",
       "      <td>2XVos0r3E8DwB4bFUTO0B5</td>\n",
       "      <td>Shipoopi</td>\n",
       "      <td>['Iggie Wolfington', 'The Original Broadway Ca...</td>\n",
       "      <td>1958</td>\n",
       "      <td>1958-01-01</td>\n",
       "      <td>131627</td>\n",
       "      <td>0.965</td>\n",
       "      <td>0.339</td>\n",
       "      <td>...</td>\n",
       "      <td>0.000000</td>\n",
       "      <td>0</td>\n",
       "      <td>0.299</td>\n",
       "      <td>-11.078</td>\n",
       "      <td>0</td>\n",
       "      <td>32</td>\n",
       "      <td>0.1980</td>\n",
       "      <td>140.702</td>\n",
       "      <td>0</td>\n",
       "      <td>[]</td>\n",
       "    </tr>\n",
       "    <tr>\n",
       "      <td>2</td>\n",
       "      <td>26172</td>\n",
       "      <td>26172</td>\n",
       "      <td>139zPoDyCUktM8HH6qeYXE</td>\n",
       "      <td>Any Way You Want Me (That's How I Will Be)</td>\n",
       "      <td>['Elvis Presley']</td>\n",
       "      <td>1958</td>\n",
       "      <td>1958-03-21</td>\n",
       "      <td>133840</td>\n",
       "      <td>0.450</td>\n",
       "      <td>0.914</td>\n",
       "      <td>...</td>\n",
       "      <td>0.004060</td>\n",
       "      <td>0</td>\n",
       "      <td>0.120</td>\n",
       "      <td>-11.498</td>\n",
       "      <td>1</td>\n",
       "      <td>38</td>\n",
       "      <td>0.0304</td>\n",
       "      <td>103.609</td>\n",
       "      <td>0</td>\n",
       "      <td>[]</td>\n",
       "    </tr>\n",
       "    <tr>\n",
       "      <td>3</td>\n",
       "      <td>26173</td>\n",
       "      <td>26173</td>\n",
       "      <td>5wA0InjAoSZedEhGjjm9hR</td>\n",
       "      <td>Big River</td>\n",
       "      <td>['Johnny Cash']</td>\n",
       "      <td>1958</td>\n",
       "      <td>1958-11-13</td>\n",
       "      <td>151339</td>\n",
       "      <td>0.868</td>\n",
       "      <td>0.828</td>\n",
       "      <td>...</td>\n",
       "      <td>0.000015</td>\n",
       "      <td>5</td>\n",
       "      <td>0.122</td>\n",
       "      <td>-8.972</td>\n",
       "      <td>1</td>\n",
       "      <td>34</td>\n",
       "      <td>0.0882</td>\n",
       "      <td>183.758</td>\n",
       "      <td>0</td>\n",
       "      <td>[]</td>\n",
       "    </tr>\n",
       "    <tr>\n",
       "      <td>4</td>\n",
       "      <td>26174</td>\n",
       "      <td>26174</td>\n",
       "      <td>4tPrPQPTlbLCnlzJqRTqsS</td>\n",
       "      <td>Caribe Soy</td>\n",
       "      <td>['Leo Marini', 'La Sonora Matancera']</td>\n",
       "      <td>1958</td>\n",
       "      <td>1958-01-01</td>\n",
       "      <td>166707</td>\n",
       "      <td>0.558</td>\n",
       "      <td>0.831</td>\n",
       "      <td>...</td>\n",
       "      <td>0.000020</td>\n",
       "      <td>5</td>\n",
       "      <td>0.132</td>\n",
       "      <td>-9.385</td>\n",
       "      <td>1</td>\n",
       "      <td>43</td>\n",
       "      <td>0.0312</td>\n",
       "      <td>118.777</td>\n",
       "      <td>0</td>\n",
       "      <td>[]</td>\n",
       "    </tr>\n",
       "  </tbody>\n",
       "</table>\n",
       "<p>5 rows × 23 columns</p>\n",
       "</div>"
      ],
      "text/plain": [
       "   index  Unnamed: 0                      id  \\\n",
       "0  26170       26170  43qTHtzIXt8ehFgcncwglq   \n",
       "1  26171       26171  2XVos0r3E8DwB4bFUTO0B5   \n",
       "2  26172       26172  139zPoDyCUktM8HH6qeYXE   \n",
       "3  26173       26173  5wA0InjAoSZedEhGjjm9hR   \n",
       "4  26174       26174  4tPrPQPTlbLCnlzJqRTqsS   \n",
       "\n",
       "                                                name  \\\n",
       "0  Locomotion - Rudy Van Gelder Edition/2003 Digi...   \n",
       "1                                           Shipoopi   \n",
       "2         Any Way You Want Me (That's How I Will Be)   \n",
       "3                                          Big River   \n",
       "4                                         Caribe Soy   \n",
       "\n",
       "                                             artists  year release_date  \\\n",
       "0                                  ['John Coltrane']  1958         1958   \n",
       "1  ['Iggie Wolfington', 'The Original Broadway Ca...  1958   1958-01-01   \n",
       "2                                  ['Elvis Presley']  1958   1958-03-21   \n",
       "3                                    ['Johnny Cash']  1958   1958-11-13   \n",
       "4              ['Leo Marini', 'La Sonora Matancera']  1958   1958-01-01   \n",
       "\n",
       "   duration_ms  valence  acousticness  ...  instrumentalness  key  liveness  \\\n",
       "0       434240    0.851         0.765  ...          0.017700    3     0.320   \n",
       "1       131627    0.965         0.339  ...          0.000000    0     0.299   \n",
       "2       133840    0.450         0.914  ...          0.004060    0     0.120   \n",
       "3       151339    0.868         0.828  ...          0.000015    5     0.122   \n",
       "4       166707    0.558         0.831  ...          0.000020    5     0.132   \n",
       "\n",
       "   loudness  mode  popularity  speechiness    tempo  on_billboard  \\\n",
       "0    -6.864     1          36       0.0520  133.913             0   \n",
       "1   -11.078     0          32       0.1980  140.702             0   \n",
       "2   -11.498     1          38       0.0304  103.609             0   \n",
       "3    -8.972     1          34       0.0882  183.758             0   \n",
       "4    -9.385     1          43       0.0312  118.777             0   \n",
       "\n",
       "   year_on_billboard  \n",
       "0                 []  \n",
       "1                 []  \n",
       "2                 []  \n",
       "3                 []  \n",
       "4                 []  \n",
       "\n",
       "[5 rows x 23 columns]"
      ]
     },
     "execution_count": 6,
     "metadata": {},
     "output_type": "execute_result"
    }
   ],
   "source": [
    "df = df.reset_index()"
   ]
  },
  {
   "cell_type": "code",
   "execution_count": 13,
   "metadata": {},
   "outputs": [
    {
     "data": {
      "text/html": [
       "<div>\n",
       "<style scoped>\n",
       "    .dataframe tbody tr th:only-of-type {\n",
       "        vertical-align: middle;\n",
       "    }\n",
       "\n",
       "    .dataframe tbody tr th {\n",
       "        vertical-align: top;\n",
       "    }\n",
       "\n",
       "    .dataframe thead th {\n",
       "        text-align: right;\n",
       "    }\n",
       "</style>\n",
       "<table border=\"1\" class=\"dataframe\">\n",
       "  <thead>\n",
       "    <tr style=\"text-align: right;\">\n",
       "      <th></th>\n",
       "      <th>id</th>\n",
       "      <th>name</th>\n",
       "      <th>artists</th>\n",
       "      <th>year</th>\n",
       "      <th>release_date</th>\n",
       "      <th>duration_ms</th>\n",
       "      <th>valence</th>\n",
       "      <th>acousticness</th>\n",
       "      <th>danceability</th>\n",
       "      <th>energy</th>\n",
       "      <th>...</th>\n",
       "      <th>instrumentalness</th>\n",
       "      <th>key</th>\n",
       "      <th>liveness</th>\n",
       "      <th>loudness</th>\n",
       "      <th>mode</th>\n",
       "      <th>popularity</th>\n",
       "      <th>speechiness</th>\n",
       "      <th>tempo</th>\n",
       "      <th>on_billboard</th>\n",
       "      <th>year_on_billboard</th>\n",
       "    </tr>\n",
       "  </thead>\n",
       "  <tbody>\n",
       "    <tr>\n",
       "      <td>0</td>\n",
       "      <td>43qTHtzIXt8ehFgcncwglq</td>\n",
       "      <td>Locomotion - Rudy Van Gelder Edition/2003 Digi...</td>\n",
       "      <td>['John Coltrane']</td>\n",
       "      <td>1958</td>\n",
       "      <td>1958</td>\n",
       "      <td>434240</td>\n",
       "      <td>0.851</td>\n",
       "      <td>0.765</td>\n",
       "      <td>0.514</td>\n",
       "      <td>0.701</td>\n",
       "      <td>...</td>\n",
       "      <td>0.017700</td>\n",
       "      <td>3</td>\n",
       "      <td>0.320</td>\n",
       "      <td>-6.864</td>\n",
       "      <td>1</td>\n",
       "      <td>36</td>\n",
       "      <td>0.0520</td>\n",
       "      <td>133.913</td>\n",
       "      <td>0</td>\n",
       "      <td>[]</td>\n",
       "    </tr>\n",
       "    <tr>\n",
       "      <td>1</td>\n",
       "      <td>2XVos0r3E8DwB4bFUTO0B5</td>\n",
       "      <td>Shipoopi</td>\n",
       "      <td>['Iggie Wolfington', 'The Original Broadway Ca...</td>\n",
       "      <td>1958</td>\n",
       "      <td>1958-01-01</td>\n",
       "      <td>131627</td>\n",
       "      <td>0.965</td>\n",
       "      <td>0.339</td>\n",
       "      <td>0.634</td>\n",
       "      <td>0.495</td>\n",
       "      <td>...</td>\n",
       "      <td>0.000000</td>\n",
       "      <td>0</td>\n",
       "      <td>0.299</td>\n",
       "      <td>-11.078</td>\n",
       "      <td>0</td>\n",
       "      <td>32</td>\n",
       "      <td>0.1980</td>\n",
       "      <td>140.702</td>\n",
       "      <td>0</td>\n",
       "      <td>[]</td>\n",
       "    </tr>\n",
       "    <tr>\n",
       "      <td>2</td>\n",
       "      <td>139zPoDyCUktM8HH6qeYXE</td>\n",
       "      <td>Any Way You Want Me (That's How I Will Be)</td>\n",
       "      <td>['Elvis Presley']</td>\n",
       "      <td>1958</td>\n",
       "      <td>1958-03-21</td>\n",
       "      <td>133840</td>\n",
       "      <td>0.450</td>\n",
       "      <td>0.914</td>\n",
       "      <td>0.358</td>\n",
       "      <td>0.324</td>\n",
       "      <td>...</td>\n",
       "      <td>0.004060</td>\n",
       "      <td>0</td>\n",
       "      <td>0.120</td>\n",
       "      <td>-11.498</td>\n",
       "      <td>1</td>\n",
       "      <td>38</td>\n",
       "      <td>0.0304</td>\n",
       "      <td>103.609</td>\n",
       "      <td>0</td>\n",
       "      <td>[]</td>\n",
       "    </tr>\n",
       "    <tr>\n",
       "      <td>3</td>\n",
       "      <td>5wA0InjAoSZedEhGjjm9hR</td>\n",
       "      <td>Big River</td>\n",
       "      <td>['Johnny Cash']</td>\n",
       "      <td>1958</td>\n",
       "      <td>1958-11-13</td>\n",
       "      <td>151339</td>\n",
       "      <td>0.868</td>\n",
       "      <td>0.828</td>\n",
       "      <td>0.644</td>\n",
       "      <td>0.623</td>\n",
       "      <td>...</td>\n",
       "      <td>0.000015</td>\n",
       "      <td>5</td>\n",
       "      <td>0.122</td>\n",
       "      <td>-8.972</td>\n",
       "      <td>1</td>\n",
       "      <td>34</td>\n",
       "      <td>0.0882</td>\n",
       "      <td>183.758</td>\n",
       "      <td>0</td>\n",
       "      <td>[]</td>\n",
       "    </tr>\n",
       "    <tr>\n",
       "      <td>4</td>\n",
       "      <td>4tPrPQPTlbLCnlzJqRTqsS</td>\n",
       "      <td>Caribe Soy</td>\n",
       "      <td>['Leo Marini', 'La Sonora Matancera']</td>\n",
       "      <td>1958</td>\n",
       "      <td>1958-01-01</td>\n",
       "      <td>166707</td>\n",
       "      <td>0.558</td>\n",
       "      <td>0.831</td>\n",
       "      <td>0.640</td>\n",
       "      <td>0.366</td>\n",
       "      <td>...</td>\n",
       "      <td>0.000020</td>\n",
       "      <td>5</td>\n",
       "      <td>0.132</td>\n",
       "      <td>-9.385</td>\n",
       "      <td>1</td>\n",
       "      <td>43</td>\n",
       "      <td>0.0312</td>\n",
       "      <td>118.777</td>\n",
       "      <td>0</td>\n",
       "      <td>[]</td>\n",
       "    </tr>\n",
       "  </tbody>\n",
       "</table>\n",
       "<p>5 rows × 21 columns</p>\n",
       "</div>"
      ],
      "text/plain": [
       "                       id                                               name  \\\n",
       "0  43qTHtzIXt8ehFgcncwglq  Locomotion - Rudy Van Gelder Edition/2003 Digi...   \n",
       "1  2XVos0r3E8DwB4bFUTO0B5                                           Shipoopi   \n",
       "2  139zPoDyCUktM8HH6qeYXE         Any Way You Want Me (That's How I Will Be)   \n",
       "3  5wA0InjAoSZedEhGjjm9hR                                          Big River   \n",
       "4  4tPrPQPTlbLCnlzJqRTqsS                                         Caribe Soy   \n",
       "\n",
       "                                             artists  year release_date  \\\n",
       "0                                  ['John Coltrane']  1958         1958   \n",
       "1  ['Iggie Wolfington', 'The Original Broadway Ca...  1958   1958-01-01   \n",
       "2                                  ['Elvis Presley']  1958   1958-03-21   \n",
       "3                                    ['Johnny Cash']  1958   1958-11-13   \n",
       "4              ['Leo Marini', 'La Sonora Matancera']  1958   1958-01-01   \n",
       "\n",
       "   duration_ms  valence  acousticness  danceability  energy  ...  \\\n",
       "0       434240    0.851         0.765         0.514   0.701  ...   \n",
       "1       131627    0.965         0.339         0.634   0.495  ...   \n",
       "2       133840    0.450         0.914         0.358   0.324  ...   \n",
       "3       151339    0.868         0.828         0.644   0.623  ...   \n",
       "4       166707    0.558         0.831         0.640   0.366  ...   \n",
       "\n",
       "   instrumentalness  key  liveness  loudness  mode  popularity  speechiness  \\\n",
       "0          0.017700    3     0.320    -6.864     1          36       0.0520   \n",
       "1          0.000000    0     0.299   -11.078     0          32       0.1980   \n",
       "2          0.004060    0     0.120   -11.498     1          38       0.0304   \n",
       "3          0.000015    5     0.122    -8.972     1          34       0.0882   \n",
       "4          0.000020    5     0.132    -9.385     1          43       0.0312   \n",
       "\n",
       "     tempo  on_billboard  year_on_billboard  \n",
       "0  133.913             0                 []  \n",
       "1  140.702             0                 []  \n",
       "2  103.609             0                 []  \n",
       "3  183.758             0                 []  \n",
       "4  118.777             0                 []  \n",
       "\n",
       "[5 rows x 21 columns]"
      ]
     },
     "execution_count": 13,
     "metadata": {},
     "output_type": "execute_result"
    }
   ],
   "source": [
    "df = df.drop(columns = [\"index\", \"Unnamed: 0\"])\n",
    "df.head()"
   ]
  },
  {
   "cell_type": "code",
   "execution_count": 18,
   "metadata": {},
   "outputs": [],
   "source": [
    "plt.show()"
   ]
  },
  {
   "cell_type": "code",
   "execution_count": 59,
   "metadata": {},
   "outputs": [],
   "source": [
    "bb_df = df[df[\"on_billboard\"] == 1]\n",
    "nbb_df = df[df[\"on_billboard\"] == 0]"
   ]
  },
  {
   "cell_type": "code",
   "execution_count": 72,
   "metadata": {},
   "outputs": [],
   "source": [
    "def visualize_data(col, df):\n",
    "    avg = {}\n",
    "    for y in range(1958, 2021):\n",
    "        y_rows = df[df[\"year\"] == y]\n",
    "        d_sum = y_rows[col].sum()\n",
    "        d_avg = d_sum / len(y_rows)\n",
    "        avg[y] = d_avg\n",
    "        \n",
    "    plt.title(col.capitalize() + \" vs Time\")\n",
    "    plt.ylabel(col.capitalize() + \" Index\")\n",
    "    plt.xlabel(\"Year\")\n",
    "    plt.plot(list(avg.keys()), list(avg.values()))"
   ]
  },
  {
   "cell_type": "code",
   "execution_count": 81,
   "metadata": {},
   "outputs": [],
   "source": [
    "def visualize_data_compare(col):\n",
    "    bb_avg = {}\n",
    "    nbb_avg = {}\n",
    "    for y in range(1958, 2021):\n",
    "        y_rows = bb_df[bb_df[\"year\"] == y]\n",
    "        d_sum = y_rows[col].sum()\n",
    "        d_avg = d_sum / len(y_rows)\n",
    "        bb_avg[y] = d_avg\n",
    "        \n",
    "    for y in range(1958, 2021):\n",
    "        y_rows = nbb_df[nbb_df[\"year\"] == y]\n",
    "        d_sum = y_rows[col].sum()\n",
    "        d_avg = d_sum / len(y_rows)\n",
    "        nbb_avg[y] = d_avg\n",
    "        \n",
    "    plt.title(col.capitalize() + \" vs Time\")\n",
    "    plt.ylabel(col.capitalize() + \" Index\")\n",
    "    plt.xlabel(\"Year\")\n",
    "    plt.plot(list(bb_avg.keys()), list(bb_avg.values()), label = \"On Billboard\")\n",
    "    plt.plot(list(nbb_avg.keys()), list(nbb_avg.values()), label = \"Not On Billboard\")\n",
    "    plt.legend()"
   ]
  },
  {
   "cell_type": "code",
   "execution_count": 92,
   "metadata": {},
   "outputs": [
    {
     "data": {
      "text/plain": [
       "Index(['id', 'name', 'artists', 'year', 'release_date', 'duration_ms',\n",
       "       'valence', 'acousticness', 'danceability', 'energy', 'explicit',\n",
       "       'instrumentalness', 'key', 'liveness', 'loudness', 'mode', 'popularity',\n",
       "       'speechiness', 'tempo', 'on_billboard', 'year_on_billboard'],\n",
       "      dtype='object')"
      ]
     },
     "execution_count": 92,
     "metadata": {},
     "output_type": "execute_result"
    }
   ],
   "source": [
    "df.columns"
   ]
  },
  {
   "cell_type": "code",
   "execution_count": 110,
   "metadata": {},
   "outputs": [
    {
     "data": {
      "image/png": "[encoded data removed]",
      "text/plain": [
       "<Figure size 432x288 with 1 Axes>"
      ]
     },
     "metadata": {
      "needs_background": "light"
     },
     "output_type": "display_data"
    }
   ],
   "source": [
    "visualize_data_compare(\"instrumentalness\")"
   ]
  },
  {
   "cell_type": "code",
   "execution_count": 70,
   "metadata": {},
   "outputs": [
    {
     "data": {
      "image/png": "[encoded data removed]",
      "text/plain": [
       "<Figure size 432x288 with 1 Axes>"
      ]
     },
     "metadata": {
      "needs_background": "light"
     },
     "output_type": "display_data"
    }
   ],
   "source": [
    "visualize_data(\"valence\", bb_df)"
   ]
  },
  {
   "cell_type": "code",
   "execution_count": 27,
   "metadata": {},
   "outputs": [],
   "source": []
  },
  {
   "cell_type": "code",
   "execution_count": null,
   "metadata": {},
   "outputs": [],
   "source": [
    "bb_df.plot(x ='year', y='loudness', kind = 'scatter')"
   ]
  },
  {
   "cell_type": "code",
   "execution_count": null,
   "metadata": {},
   "outputs": [],
   "source": []
  }
 ],
 "metadata": {
  "kernelspec": {
   "display_name": "Python 3",
   "language": "python",
   "name": "python3"
  },
  "language_info": {
   "codemirror_mode": {
    "name": "ipython",
    "version": 3
   },
   "file_extension": ".py",
   "mimetype": "text/x-python",
   "name": "python",
   "nbconvert_exporter": "python",
   "pygments_lexer": "ipython3",
   "version": "3.8.5"
  }
 },
 "nbformat": 4,
 "nbformat_minor": 4
}
